{
 "cells": [
  {
   "cell_type": "markdown",
   "metadata": {},
   "source": [
    "# import"
   ]
  },
  {
   "cell_type": "code",
   "execution_count": 549,
   "metadata": {
    "_cell_guid": "b1076dfc-b9ad-4769-8c92-a6c4dae69d19",
    "_uuid": "8f2839f25d086af736a60e9eeb907d3b93b6e0e5"
   },
   "outputs": [],
   "source": [
    "# This Python 3 environment comes with many helpful analytics libraries installed\n",
    "# It is defined by the kaggle/python docker image: https://github.com/kaggle/docker-python\n",
    "# For example, here's several helpful packages to load in \n",
    "\n",
    "import numpy as np # linear algebra\n",
    "import pandas as pd # data processing, CSV file I/O (e.g. pd.read_csv)\n",
    "from collections import Counter# счетчик\n",
    "\n",
    "import matplotlib.pyplot as plt\n",
    "import seaborn as sns \n",
    "%matplotlib inline\n",
    "\n",
    "# Загружаем специальный удобный инструмент для разделения датасета:\n",
    "from sklearn.model_selection import train_test_split\n",
    "from sklearn.preprocessing import LabelEncoder\n",
    "\n",
    "# Input data files are available in the \"../input/\" directory.\n",
    "# For example, running this (by clicking run or pressing Shift+Enter) will list all files under the input directory\n",
    "\n",
    "\n",
    "import os\n",
    "for dirname, _, filenames in os.walk('/kaggle/input'):\n",
    "    for filename in filenames:\n",
    "        print(os.path.join(dirname, filename))\n",
    "\n",
    "# Any results you write to the current directory are saved as output."
   ]
  },
  {
   "cell_type": "code",
   "execution_count": 550,
   "metadata": {},
   "outputs": [],
   "source": [
    "# всегда фиксируйте RANDOM_SEED, чтобы ваши эксперименты были воспроизводимы!\n",
    "RANDOM_SEED = 42"
   ]
  },
  {
   "cell_type": "code",
   "execution_count": 551,
   "metadata": {},
   "outputs": [],
   "source": [
    "# зафиксируем версию пакетов, чтобы эксперименты были воспроизводимы:\n",
    "!pip freeze > requirements.txt"
   ]
  },
  {
   "cell_type": "markdown",
   "metadata": {},
   "source": [
    "# DATA"
   ]
  },
  {
   "cell_type": "code",
   "execution_count": 552,
   "metadata": {
    "_cell_guid": "79c7e3d0-c299-4dcb-8224-4455121ee9b0",
    "_uuid": "d629ff2d2480ee46fbb7e2d37f6b5fab8052498a"
   },
   "outputs": [],
   "source": [
    "DATA_DIR = r'C:\\Projects\\awesome-website\\skillfactory-module_0-Mikheev\\Lessons\\Проект 3. О вкусной и здоровой пище\\data'\n",
    "df_train = pd.read_csv(DATA_DIR+'/main_task.csv')\n",
    "df_test = pd.read_csv(DATA_DIR+'/kaggle_task.csv')\n",
    "sample_submission = pd.read_csv(DATA_DIR+'/sample_submission.csv')"
   ]
  },
  {
   "cell_type": "code",
   "execution_count": 553,
   "metadata": {},
   "outputs": [],
   "source": [
    "# ВАЖНО! дря корректной обработки признаков объединяем трейн и тест в один датасет\n",
    "df_train['sample'] = 1 # помечаем где у нас трейн\n",
    "df_test['sample'] = 0 # помечаем где у нас тест\n",
    "df_test['Rating'] = 0 # в тесте у нас нет значения Rating, мы его должны предсказать, по этому пока просто заполняем нулями\n",
    "\n",
    "data = df_test.append(df_train, sort=False).reset_index(drop=True) # объединяем"
   ]
  },
  {
   "cell_type": "markdown",
   "metadata": {},
   "source": [
    "**Немного изменим названия столбцов для удобства**"
   ]
  },
  {
   "cell_type": "code",
   "execution_count": 554,
   "metadata": {},
   "outputs": [],
   "source": [
    "col = ['Restaurant_id', 'City', 'Cuisine_Style', 'Ranking', 'Price_Range', 'Number_of_Reviews', 'Reviews', 'URL_TA', 'ID_TA','sample','Rating']\n",
    "data.columns = col"
   ]
  },
  {
   "cell_type": "code",
   "execution_count": 555,
   "metadata": {},
   "outputs": [
    {
     "name": "stdout",
     "output_type": "stream",
     "text": [
      "<class 'pandas.core.frame.DataFrame'>\n",
      "RangeIndex: 50000 entries, 0 to 49999\n",
      "Data columns (total 11 columns):\n",
      " #   Column             Non-Null Count  Dtype  \n",
      "---  ------             --------------  -----  \n",
      " 0   Restaurant_id      50000 non-null  object \n",
      " 1   City               50000 non-null  object \n",
      " 2   Cuisine_Style      38410 non-null  object \n",
      " 3   Ranking            50000 non-null  float64\n",
      " 4   Price_Range        32639 non-null  object \n",
      " 5   Number_of_Reviews  46800 non-null  float64\n",
      " 6   Reviews            49998 non-null  object \n",
      " 7   URL_TA             50000 non-null  object \n",
      " 8   ID_TA              50000 non-null  object \n",
      " 9   sample             50000 non-null  int64  \n",
      " 10  Rating             50000 non-null  float64\n",
      "dtypes: float64(3), int64(1), object(7)\n",
      "memory usage: 2.9+ MB\n"
     ]
    }
   ],
   "source": [
    "data.info(100000)"
   ]
  },
  {
   "cell_type": "code",
   "execution_count": 556,
   "metadata": {},
   "outputs": [
    {
     "data": {
      "text/html": [
       "<div>\n",
       "<style scoped>\n",
       "    .dataframe tbody tr th:only-of-type {\n",
       "        vertical-align: middle;\n",
       "    }\n",
       "\n",
       "    .dataframe tbody tr th {\n",
       "        vertical-align: top;\n",
       "    }\n",
       "\n",
       "    .dataframe thead th {\n",
       "        text-align: right;\n",
       "    }\n",
       "</style>\n",
       "<table border=\"1\" class=\"dataframe\">\n",
       "  <thead>\n",
       "    <tr style=\"text-align: right;\">\n",
       "      <th></th>\n",
       "      <th>Restaurant_id</th>\n",
       "      <th>City</th>\n",
       "      <th>Cuisine_Style</th>\n",
       "      <th>Ranking</th>\n",
       "      <th>Price_Range</th>\n",
       "      <th>Number_of_Reviews</th>\n",
       "      <th>Reviews</th>\n",
       "      <th>URL_TA</th>\n",
       "      <th>ID_TA</th>\n",
       "      <th>sample</th>\n",
       "      <th>Rating</th>\n",
       "    </tr>\n",
       "  </thead>\n",
       "  <tbody>\n",
       "    <tr>\n",
       "      <th>0</th>\n",
       "      <td>id_0</td>\n",
       "      <td>Paris</td>\n",
       "      <td>['Bar', 'Pub']</td>\n",
       "      <td>12963.0</td>\n",
       "      <td>$$ - $$$</td>\n",
       "      <td>4.0</td>\n",
       "      <td>[[], []]</td>\n",
       "      <td>/Restaurant_Review-g187147-d10746918-Reviews-L...</td>\n",
       "      <td>d10746918</td>\n",
       "      <td>0</td>\n",
       "      <td>0.0</td>\n",
       "    </tr>\n",
       "    <tr>\n",
       "      <th>1</th>\n",
       "      <td>id_1</td>\n",
       "      <td>Helsinki</td>\n",
       "      <td>['European', 'Scandinavian', 'Gluten Free Opti...</td>\n",
       "      <td>106.0</td>\n",
       "      <td>$$ - $$$</td>\n",
       "      <td>97.0</td>\n",
       "      <td>[['Very good reviews!', 'Fine dining in Hakani...</td>\n",
       "      <td>/Restaurant_Review-g189934-d6674944-Reviews-Ra...</td>\n",
       "      <td>d6674944</td>\n",
       "      <td>0</td>\n",
       "      <td>0.0</td>\n",
       "    </tr>\n",
       "    <tr>\n",
       "      <th>2</th>\n",
       "      <td>id_2</td>\n",
       "      <td>Edinburgh</td>\n",
       "      <td>['Vegetarian Friendly']</td>\n",
       "      <td>810.0</td>\n",
       "      <td>$$ - $$$</td>\n",
       "      <td>28.0</td>\n",
       "      <td>[['Better than the Links', 'Ivy Black'], ['12/...</td>\n",
       "      <td>/Restaurant_Review-g186525-d13129638-Reviews-B...</td>\n",
       "      <td>d13129638</td>\n",
       "      <td>0</td>\n",
       "      <td>0.0</td>\n",
       "    </tr>\n",
       "    <tr>\n",
       "      <th>3</th>\n",
       "      <td>id_3</td>\n",
       "      <td>London</td>\n",
       "      <td>['Italian', 'Mediterranean', 'European', 'Vege...</td>\n",
       "      <td>1669.0</td>\n",
       "      <td>$$$$</td>\n",
       "      <td>202.0</td>\n",
       "      <td>[['Most exquisite', 'Delicious and authentic']...</td>\n",
       "      <td>/Restaurant_Review-g186338-d680417-Reviews-Qui...</td>\n",
       "      <td>d680417</td>\n",
       "      <td>0</td>\n",
       "      <td>0.0</td>\n",
       "    </tr>\n",
       "    <tr>\n",
       "      <th>4</th>\n",
       "      <td>id_4</td>\n",
       "      <td>Bratislava</td>\n",
       "      <td>['Italian', 'Mediterranean', 'European', 'Seaf...</td>\n",
       "      <td>37.0</td>\n",
       "      <td>$$$$</td>\n",
       "      <td>162.0</td>\n",
       "      <td>[['Always the best in bratislava', 'Very good ...</td>\n",
       "      <td>/Restaurant_Review-g274924-d1112354-Reviews-Ma...</td>\n",
       "      <td>d1112354</td>\n",
       "      <td>0</td>\n",
       "      <td>0.0</td>\n",
       "    </tr>\n",
       "    <tr>\n",
       "      <th>...</th>\n",
       "      <td>...</td>\n",
       "      <td>...</td>\n",
       "      <td>...</td>\n",
       "      <td>...</td>\n",
       "      <td>...</td>\n",
       "      <td>...</td>\n",
       "      <td>...</td>\n",
       "      <td>...</td>\n",
       "      <td>...</td>\n",
       "      <td>...</td>\n",
       "      <td>...</td>\n",
       "    </tr>\n",
       "    <tr>\n",
       "      <th>49995</th>\n",
       "      <td>id_499</td>\n",
       "      <td>Milan</td>\n",
       "      <td>['Italian', 'Vegetarian Friendly', 'Vegan Opti...</td>\n",
       "      <td>500.0</td>\n",
       "      <td>$$ - $$$</td>\n",
       "      <td>79.0</td>\n",
       "      <td>[['The real Italian experience!', 'Wonderful f...</td>\n",
       "      <td>/Restaurant_Review-g187849-d2104414-Reviews-Ro...</td>\n",
       "      <td>d2104414</td>\n",
       "      <td>1</td>\n",
       "      <td>4.5</td>\n",
       "    </tr>\n",
       "    <tr>\n",
       "      <th>49996</th>\n",
       "      <td>id_6340</td>\n",
       "      <td>Paris</td>\n",
       "      <td>['French', 'American', 'Bar', 'European', 'Veg...</td>\n",
       "      <td>6341.0</td>\n",
       "      <td>$$ - $$$</td>\n",
       "      <td>542.0</td>\n",
       "      <td>[['Parisian atmosphere', 'Bit pricey but inter...</td>\n",
       "      <td>/Restaurant_Review-g187147-d1800036-Reviews-La...</td>\n",
       "      <td>d1800036</td>\n",
       "      <td>1</td>\n",
       "      <td>3.5</td>\n",
       "    </tr>\n",
       "    <tr>\n",
       "      <th>49997</th>\n",
       "      <td>id_1649</td>\n",
       "      <td>Stockholm</td>\n",
       "      <td>['Japanese', 'Sushi']</td>\n",
       "      <td>1652.0</td>\n",
       "      <td>NaN</td>\n",
       "      <td>4.0</td>\n",
       "      <td>[['Good by swedish standards', 'A hidden jewel...</td>\n",
       "      <td>/Restaurant_Review-g189852-d947615-Reviews-Sus...</td>\n",
       "      <td>d947615</td>\n",
       "      <td>1</td>\n",
       "      <td>4.5</td>\n",
       "    </tr>\n",
       "    <tr>\n",
       "      <th>49998</th>\n",
       "      <td>id_640</td>\n",
       "      <td>Warsaw</td>\n",
       "      <td>['Polish', 'European', 'Eastern European', 'Ce...</td>\n",
       "      <td>641.0</td>\n",
       "      <td>$$ - $$$</td>\n",
       "      <td>70.0</td>\n",
       "      <td>[['Underground restaurant', 'Oldest Restaurant...</td>\n",
       "      <td>/Restaurant_Review-g274856-d1100838-Reviews-Ho...</td>\n",
       "      <td>d1100838</td>\n",
       "      <td>1</td>\n",
       "      <td>4.0</td>\n",
       "    </tr>\n",
       "    <tr>\n",
       "      <th>49999</th>\n",
       "      <td>id_4824</td>\n",
       "      <td>Milan</td>\n",
       "      <td>['Spanish']</td>\n",
       "      <td>4827.0</td>\n",
       "      <td>$$ - $$$</td>\n",
       "      <td>260.0</td>\n",
       "      <td>[['Average', 'Nice an informal'], ['01/31/2016...</td>\n",
       "      <td>/Restaurant_Review-g187849-d1109020-Reviews-Ta...</td>\n",
       "      <td>d1109020</td>\n",
       "      <td>1</td>\n",
       "      <td>3.0</td>\n",
       "    </tr>\n",
       "  </tbody>\n",
       "</table>\n",
       "<p>50000 rows × 11 columns</p>\n",
       "</div>"
      ],
      "text/plain": [
       "      Restaurant_id        City  \\\n",
       "0              id_0       Paris   \n",
       "1              id_1    Helsinki   \n",
       "2              id_2   Edinburgh   \n",
       "3              id_3      London   \n",
       "4              id_4  Bratislava   \n",
       "...             ...         ...   \n",
       "49995        id_499       Milan   \n",
       "49996       id_6340       Paris   \n",
       "49997       id_1649   Stockholm   \n",
       "49998        id_640      Warsaw   \n",
       "49999       id_4824       Milan   \n",
       "\n",
       "                                           Cuisine_Style  Ranking Price_Range  \\\n",
       "0                                         ['Bar', 'Pub']  12963.0    $$ - $$$   \n",
       "1      ['European', 'Scandinavian', 'Gluten Free Opti...    106.0    $$ - $$$   \n",
       "2                                ['Vegetarian Friendly']    810.0    $$ - $$$   \n",
       "3      ['Italian', 'Mediterranean', 'European', 'Vege...   1669.0        $$$$   \n",
       "4      ['Italian', 'Mediterranean', 'European', 'Seaf...     37.0        $$$$   \n",
       "...                                                  ...      ...         ...   \n",
       "49995  ['Italian', 'Vegetarian Friendly', 'Vegan Opti...    500.0    $$ - $$$   \n",
       "49996  ['French', 'American', 'Bar', 'European', 'Veg...   6341.0    $$ - $$$   \n",
       "49997                              ['Japanese', 'Sushi']   1652.0         NaN   \n",
       "49998  ['Polish', 'European', 'Eastern European', 'Ce...    641.0    $$ - $$$   \n",
       "49999                                        ['Spanish']   4827.0    $$ - $$$   \n",
       "\n",
       "       Number_of_Reviews                                            Reviews  \\\n",
       "0                    4.0                                           [[], []]   \n",
       "1                   97.0  [['Very good reviews!', 'Fine dining in Hakani...   \n",
       "2                   28.0  [['Better than the Links', 'Ivy Black'], ['12/...   \n",
       "3                  202.0  [['Most exquisite', 'Delicious and authentic']...   \n",
       "4                  162.0  [['Always the best in bratislava', 'Very good ...   \n",
       "...                  ...                                                ...   \n",
       "49995               79.0  [['The real Italian experience!', 'Wonderful f...   \n",
       "49996              542.0  [['Parisian atmosphere', 'Bit pricey but inter...   \n",
       "49997                4.0  [['Good by swedish standards', 'A hidden jewel...   \n",
       "49998               70.0  [['Underground restaurant', 'Oldest Restaurant...   \n",
       "49999              260.0  [['Average', 'Nice an informal'], ['01/31/2016...   \n",
       "\n",
       "                                                  URL_TA      ID_TA  sample  \\\n",
       "0      /Restaurant_Review-g187147-d10746918-Reviews-L...  d10746918       0   \n",
       "1      /Restaurant_Review-g189934-d6674944-Reviews-Ra...   d6674944       0   \n",
       "2      /Restaurant_Review-g186525-d13129638-Reviews-B...  d13129638       0   \n",
       "3      /Restaurant_Review-g186338-d680417-Reviews-Qui...    d680417       0   \n",
       "4      /Restaurant_Review-g274924-d1112354-Reviews-Ma...   d1112354       0   \n",
       "...                                                  ...        ...     ...   \n",
       "49995  /Restaurant_Review-g187849-d2104414-Reviews-Ro...   d2104414       1   \n",
       "49996  /Restaurant_Review-g187147-d1800036-Reviews-La...   d1800036       1   \n",
       "49997  /Restaurant_Review-g189852-d947615-Reviews-Sus...    d947615       1   \n",
       "49998  /Restaurant_Review-g274856-d1100838-Reviews-Ho...   d1100838       1   \n",
       "49999  /Restaurant_Review-g187849-d1109020-Reviews-Ta...   d1109020       1   \n",
       "\n",
       "       Rating  \n",
       "0         0.0  \n",
       "1         0.0  \n",
       "2         0.0  \n",
       "3         0.0  \n",
       "4         0.0  \n",
       "...       ...  \n",
       "49995     4.5  \n",
       "49996     3.5  \n",
       "49997     4.5  \n",
       "49998     4.0  \n",
       "49999     3.0  \n",
       "\n",
       "[50000 rows x 11 columns]"
      ]
     },
     "execution_count": 556,
     "metadata": {},
     "output_type": "execute_result"
    }
   ],
   "source": [
    "data"
   ]
  },
  {
   "cell_type": "markdown",
   "metadata": {},
   "source": [
    "# Cleaning and Prepping Data"
   ]
  },
  {
   "cell_type": "markdown",
   "metadata": {},
   "source": [
    "**Проверяем столбец с Restaurant_id (идентификационный номер ресторана / сети ресторанов)**"
   ]
  },
  {
   "cell_type": "code",
   "execution_count": 557,
   "metadata": {},
   "outputs": [
    {
     "data": {
      "text/plain": [
       "id_436      19\n",
       "id_633      19\n",
       "id_227      19\n",
       "id_871      19\n",
       "id_534      18\n",
       "            ..\n",
       "id_10016     1\n",
       "id_10695     1\n",
       "id_13389     1\n",
       "id_8165      1\n",
       "id_9507      1\n",
       "Name: Restaurant_id, Length: 13094, dtype: int64"
      ]
     },
     "execution_count": 557,
     "metadata": {},
     "output_type": "execute_result"
    }
   ],
   "source": [
    "data['Restaurant_id'].value_counts()\n",
    "# пропусков нет, все ок"
   ]
  },
  {
   "cell_type": "code",
   "execution_count": 558,
   "metadata": {},
   "outputs": [
    {
     "name": "stdout",
     "output_type": "stream",
     "text": [
      "count      50000\n",
      "unique     13094\n",
      "top       id_436\n",
      "freq          19\n",
      "Name: Restaurant_id, dtype: object\n"
     ]
    }
   ],
   "source": [
    "print(data['Restaurant_id'].describe())\n",
    "# по условию - в одному id  могут быть прикреплены несколько ресторанов одной сети,\n",
    "# поэтому уникальных значений меньше чем записей"
   ]
  },
  {
   "cell_type": "code",
   "execution_count": 559,
   "metadata": {},
   "outputs": [
    {
     "name": "stdout",
     "output_type": "stream",
     "text": [
      " \n",
      "50000\n",
      "<class 'numpy.int64'>\n"
     ]
    }
   ],
   "source": [
    "data['Restaurant_id'] = [i[3:] for i in data['Restaurant_id']]\n",
    "data['Restaurant_id'] = [int(i) for i in data['Restaurant_id']]\n",
    "\n",
    "print(' ')\n",
    "print(len(data['Restaurant_id']))\n",
    "print(type(data['Restaurant_id'][1]))\n",
    "\n",
    "# превратили столбец в численное выражение"
   ]
  },
  {
   "cell_type": "markdown",
   "metadata": {},
   "source": [
    "**Добавляем количество заведений в сети**"
   ]
  },
  {
   "cell_type": "code",
   "execution_count": 560,
   "metadata": {},
   "outputs": [
    {
     "data": {
      "text/html": [
       "<div>\n",
       "<style scoped>\n",
       "    .dataframe tbody tr th:only-of-type {\n",
       "        vertical-align: middle;\n",
       "    }\n",
       "\n",
       "    .dataframe tbody tr th {\n",
       "        vertical-align: top;\n",
       "    }\n",
       "\n",
       "    .dataframe thead th {\n",
       "        text-align: right;\n",
       "    }\n",
       "</style>\n",
       "<table border=\"1\" class=\"dataframe\">\n",
       "  <thead>\n",
       "    <tr style=\"text-align: right;\">\n",
       "      <th></th>\n",
       "      <th>Restaurant_id</th>\n",
       "      <th>chain</th>\n",
       "    </tr>\n",
       "  </thead>\n",
       "  <tbody>\n",
       "    <tr>\n",
       "      <th>0</th>\n",
       "      <td>0</td>\n",
       "      <td>16</td>\n",
       "    </tr>\n",
       "    <tr>\n",
       "      <th>1</th>\n",
       "      <td>1</td>\n",
       "      <td>10</td>\n",
       "    </tr>\n",
       "    <tr>\n",
       "      <th>2</th>\n",
       "      <td>2</td>\n",
       "      <td>15</td>\n",
       "    </tr>\n",
       "    <tr>\n",
       "      <th>3</th>\n",
       "      <td>3</td>\n",
       "      <td>9</td>\n",
       "    </tr>\n",
       "    <tr>\n",
       "      <th>4</th>\n",
       "      <td>4</td>\n",
       "      <td>14</td>\n",
       "    </tr>\n",
       "    <tr>\n",
       "      <th>...</th>\n",
       "      <td>...</td>\n",
       "      <td>...</td>\n",
       "    </tr>\n",
       "    <tr>\n",
       "      <th>49995</th>\n",
       "      <td>499</td>\n",
       "      <td>15</td>\n",
       "    </tr>\n",
       "    <tr>\n",
       "      <th>49996</th>\n",
       "      <td>6340</td>\n",
       "      <td>3</td>\n",
       "    </tr>\n",
       "    <tr>\n",
       "      <th>49997</th>\n",
       "      <td>1649</td>\n",
       "      <td>11</td>\n",
       "    </tr>\n",
       "    <tr>\n",
       "      <th>49998</th>\n",
       "      <td>640</td>\n",
       "      <td>9</td>\n",
       "    </tr>\n",
       "    <tr>\n",
       "      <th>49999</th>\n",
       "      <td>4824</td>\n",
       "      <td>5</td>\n",
       "    </tr>\n",
       "  </tbody>\n",
       "</table>\n",
       "<p>50000 rows × 2 columns</p>\n",
       "</div>"
      ],
      "text/plain": [
       "       Restaurant_id  chain\n",
       "0                  0     16\n",
       "1                  1     10\n",
       "2                  2     15\n",
       "3                  3      9\n",
       "4                  4     14\n",
       "...              ...    ...\n",
       "49995            499     15\n",
       "49996           6340      3\n",
       "49997           1649     11\n",
       "49998            640      9\n",
       "49999           4824      5\n",
       "\n",
       "[50000 rows x 2 columns]"
      ]
     },
     "execution_count": 560,
     "metadata": {},
     "output_type": "execute_result"
    }
   ],
   "source": [
    "a=data['Restaurant_id'].value_counts()\n",
    "a=dict(a)\n",
    "a=pd.DataFrame({'count':a}, columns=['count'])\n",
    "\n",
    "A=a.index\n",
    "B=a.values\n",
    "\n",
    "data['chain']= data['Restaurant_id'].replace(A, B)\n",
    "data[['Restaurant_id', 'chain']]"
   ]
  },
  {
   "cell_type": "markdown",
   "metadata": {},
   "source": [
    "**Проверяем столбец с City (город, в котором находится ресторан)**"
   ]
  },
  {
   "cell_type": "code",
   "execution_count": 561,
   "metadata": {},
   "outputs": [
    {
     "data": {
      "text/plain": [
       "London        7193\n",
       "Paris         6108\n",
       "Madrid        3813\n",
       "Barcelona     3395\n",
       "Berlin        2705\n",
       "Milan         2694\n",
       "Rome          2589\n",
       "Prague        1816\n",
       "Lisbon        1647\n",
       "Vienna        1443\n",
       "Amsterdam     1372\n",
       "Brussels      1314\n",
       "Hamburg       1186\n",
       "Munich        1145\n",
       "Lyon          1126\n",
       "Stockholm     1033\n",
       "Budapest      1021\n",
       "Warsaw         925\n",
       "Dublin         836\n",
       "Copenhagen     819\n",
       "Athens         776\n",
       "Edinburgh      745\n",
       "Zurich         685\n",
       "Oporto         642\n",
       "Geneva         590\n",
       "Krakow         554\n",
       "Oslo           488\n",
       "Helsinki       475\n",
       "Bratislava     380\n",
       "Luxembourg     263\n",
       "Ljubljana      222\n",
       "Name: City, dtype: int64"
      ]
     },
     "execution_count": 561,
     "metadata": {},
     "output_type": "execute_result"
    }
   ],
   "source": [
    "data.City.value_counts()\n",
    "# пропусков нет, города не повторяются, проблем с ракладкой или регистром нет, все ок"
   ]
  },
  {
   "cell_type": "code",
   "execution_count": 562,
   "metadata": {},
   "outputs": [
    {
     "name": "stdout",
     "output_type": "stream",
     "text": [
      "count      50000\n",
      "unique        31\n",
      "top       London\n",
      "freq        7193\n",
      "Name: City, dtype: object\n"
     ]
    }
   ],
   "source": [
    "\n",
    "print(data.City.describe())"
   ]
  },
  {
   "cell_type": "code",
   "execution_count": 563,
   "metadata": {},
   "outputs": [
    {
     "name": "stdout",
     "output_type": "stream",
     "text": [
      "<class 'pandas.core.frame.DataFrame'>\n",
      "RangeIndex: 50000 entries, 0 to 49999\n",
      "Data columns (total 43 columns):\n",
      " #   Column             Non-Null Count  Dtype  \n",
      "---  ------             --------------  -----  \n",
      " 0   Restaurant_id      50000 non-null  int64  \n",
      " 1   City               50000 non-null  object \n",
      " 2   Cuisine_Style      38410 non-null  object \n",
      " 3   Ranking            50000 non-null  float64\n",
      " 4   Price_Range        32639 non-null  object \n",
      " 5   Number_of_Reviews  46800 non-null  float64\n",
      " 6   Reviews            49998 non-null  object \n",
      " 7   URL_TA             50000 non-null  object \n",
      " 8   ID_TA              50000 non-null  object \n",
      " 9   sample             50000 non-null  int64  \n",
      " 10  Rating             50000 non-null  float64\n",
      " 11  chain              50000 non-null  int64  \n",
      " 12  Amsterdam          50000 non-null  uint8  \n",
      " 13  Athens             50000 non-null  uint8  \n",
      " 14  Barcelona          50000 non-null  uint8  \n",
      " 15  Berlin             50000 non-null  uint8  \n",
      " 16  Bratislava         50000 non-null  uint8  \n",
      " 17  Brussels           50000 non-null  uint8  \n",
      " 18  Budapest           50000 non-null  uint8  \n",
      " 19  Copenhagen         50000 non-null  uint8  \n",
      " 20  Dublin             50000 non-null  uint8  \n",
      " 21  Edinburgh          50000 non-null  uint8  \n",
      " 22  Geneva             50000 non-null  uint8  \n",
      " 23  Hamburg            50000 non-null  uint8  \n",
      " 24  Helsinki           50000 non-null  uint8  \n",
      " 25  Krakow             50000 non-null  uint8  \n",
      " 26  Lisbon             50000 non-null  uint8  \n",
      " 27  Ljubljana          50000 non-null  uint8  \n",
      " 28  London             50000 non-null  uint8  \n",
      " 29  Luxembourg         50000 non-null  uint8  \n",
      " 30  Lyon               50000 non-null  uint8  \n",
      " 31  Madrid             50000 non-null  uint8  \n",
      " 32  Milan              50000 non-null  uint8  \n",
      " 33  Munich             50000 non-null  uint8  \n",
      " 34  Oporto             50000 non-null  uint8  \n",
      " 35  Oslo               50000 non-null  uint8  \n",
      " 36  Paris              50000 non-null  uint8  \n",
      " 37  Prague             50000 non-null  uint8  \n",
      " 38  Rome               50000 non-null  uint8  \n",
      " 39  Stockholm          50000 non-null  uint8  \n",
      " 40  Vienna             50000 non-null  uint8  \n",
      " 41  Warsaw             50000 non-null  uint8  \n",
      " 42  Zurich             50000 non-null  uint8  \n",
      "dtypes: float64(3), int64(3), object(6), uint8(31)\n",
      "memory usage: 4.9+ MB\n"
     ]
    }
   ],
   "source": [
    "#преобразуем City в переменную dummy\n",
    "data = pd.concat((data, pd.get_dummies(data.City)), axis=1)\n",
    "data.info()"
   ]
  },
  {
   "cell_type": "markdown",
   "metadata": {},
   "source": [
    "Сделаем \"нормализацию\" значения рейтинга по городам"
   ]
  },
  {
   "cell_type": "code",
   "execution_count": 564,
   "metadata": {},
   "outputs": [
    {
     "data": {
      "text/plain": [
       "count    50000.000000\n",
       "mean         0.498423\n",
       "std          0.287871\n",
       "min          0.000061\n",
       "25%          0.249061\n",
       "50%          0.496908\n",
       "75%          0.747353\n",
       "max          1.000000\n",
       "Name: Std_ranking, dtype: float64"
      ]
     },
     "execution_count": 564,
     "metadata": {},
     "output_type": "execute_result"
    }
   ],
   "source": [
    "A = list(data.City.value_counts().keys())\n",
    "data1=pd.DataFrame()\n",
    "data1['City'] = data['City']\n",
    "data1['Ranking']=data['Ranking']\n",
    "data1=pd.DataFrame(data1.groupby(['City']).max())\n",
    "data2=data1['Ranking']\n",
    "A=list(data2.keys())\n",
    "B=list(data2)\n",
    "\n",
    "data['Len_rest_in_city'] = data['City'].replace(A, B)\n",
    "\n",
    "data['Std_ranking']=data['Ranking']/data['Len_rest_in_city']\n",
    "\n",
    "data.Std_ranking.describe()"
   ]
  },
  {
   "cell_type": "code",
   "execution_count": 565,
   "metadata": {},
   "outputs": [
    {
     "data": {
      "text/plain": [
       "City\n",
       "Amsterdam      3254.0\n",
       "Athens         1787.0\n",
       "Barcelona      7796.0\n",
       "Berlin         6372.0\n",
       "Bratislava      889.0\n",
       "Brussels       3006.0\n",
       "Budapest       2440.0\n",
       "Copenhagen     1964.0\n",
       "Dublin         1960.0\n",
       "Edinburgh      1766.0\n",
       "Geneva         1413.0\n",
       "Hamburg        2737.0\n",
       "Helsinki       1141.0\n",
       "Krakow         1244.0\n",
       "Lisbon         3717.0\n",
       "Ljubljana       468.0\n",
       "London        16444.0\n",
       "Luxembourg      621.0\n",
       "Lyon           2666.0\n",
       "Madrid         8809.0\n",
       "Milan          6275.0\n",
       "Munich         2763.0\n",
       "Oporto         1484.0\n",
       "Oslo           1137.0\n",
       "Paris         13986.0\n",
       "Prague         4188.0\n",
       "Rome           5948.0\n",
       "Stockholm      2464.0\n",
       "Vienna         3444.0\n",
       "Warsaw         2154.0\n",
       "Zurich         1601.0\n",
       "Name: Ranking, dtype: float64"
      ]
     },
     "execution_count": 565,
     "metadata": {},
     "output_type": "execute_result"
    }
   ],
   "source": [
    "data2"
   ]
  },
  {
   "cell_type": "markdown",
   "metadata": {},
   "source": [
    "**Добавим столбец Population (кол-во жителей в каждом городе)**"
   ]
  },
  {
   "cell_type": "code",
   "execution_count": 566,
   "metadata": {},
   "outputs": [
    {
     "name": "stdout",
     "output_type": "stream",
     "text": [
      "50000\n",
      "<class 'numpy.int64'>\n"
     ]
    }
   ],
   "source": [
    "number_city_residents_dict = {'Paris':2148327, 'Stockholm':961609, 'London':8908081, 'Berlin':3644826, 'Munich':1471508, 'Oporto':237591,\n",
    "       'Milan':1378689, 'Bratislava':437725, 'Vienna':1897491, 'Rome':2870500, 'Barcelona':1636762, 'Madrid':3266126,\n",
    "       'Dublin':1173179, 'Brussels':179277, 'Zurich':428737, 'Warsaw':1790658, 'Budapest':1752286, 'Copenhagen':615993,\n",
    "       'Amsterdam':872757, 'Lyon':506615, 'Hamburg':1841179, 'Lisbon':505526, 'Prague':1301132, 'Oslo':673469,\n",
    "       'Helsinki':655281, 'Edinburgh':488100, 'Geneva':200548, 'Ljubljana':284355, 'Athens':664046,\n",
    "       'Luxembourg':602005, 'Krakow':769498}\n",
    "# словарь со кол-вом жителей\n",
    "data['population'] = data['City'].replace(number_city_residents_dict)\n",
    "print(len(data.population))\n",
    "print(type(data.population[1]))"
   ]
  },
  {
   "cell_type": "markdown",
   "metadata": {},
   "source": [
    "**Добавим столбец Country (страна)**"
   ]
  },
  {
   "cell_type": "code",
   "execution_count": 567,
   "metadata": {},
   "outputs": [
    {
     "name": "stdout",
     "output_type": "stream",
     "text": [
      "France           7234\n",
      "Spain            7208\n",
      "GreatBritain     7193\n",
      "Italy            5283\n",
      "Germany          5036\n",
      "Portugal         2289\n",
      "CzechRepublic    1816\n",
      "Poland           1479\n",
      "Austria          1443\n",
      "Netherlands      1372\n",
      "Belgium          1314\n",
      "Switzeland       1275\n",
      "Sweden           1033\n",
      "Hungary          1021\n",
      "Irland            836\n",
      "Denmark           819\n",
      "Greece            776\n",
      "Scotland          745\n",
      "Norway            488\n",
      "Finland           475\n",
      "Slovakia          380\n",
      "Luxembourg        263\n",
      "Slovenia          222\n",
      "Name: Country, dtype: int64\n",
      "50000\n",
      "<class 'numpy.int64'>\n"
     ]
    }
   ],
   "source": [
    "country_dict = {'London': 'GreatBritain', 'Paris': 'France', 'Madrid': 'Spain', 'Barcelona': 'Spain', \n",
    "                'Berlin': 'Germany', 'Milan': 'Italy', 'Rome': 'Italy', 'Prague': 'CzechRepublic', \n",
    "                'Lisbon': 'Portugal', 'Vienna': 'Austria', 'Amsterdam': 'Netherlands', 'Brussels': 'Belgium', \n",
    "                'Hamburg': 'Germany', 'Munich': 'Germany', 'Lyon': 'France', 'Stockholm': 'Sweden', \n",
    "                'Budapest': 'Hungary', 'Warsaw': 'Poland', 'Dublin': 'Irland', 'Copenhagen': 'Denmark', \n",
    "                'Athens': 'Greece', 'Edinburgh': 'Scotland', 'Zurich': 'Switzeland', 'Oporto': 'Portugal', \n",
    "                'Geneva': 'Switzeland', 'Krakow': 'Poland', 'Oslo': 'Norway', 'Helsinki': 'Finland', \n",
    "                'Bratislava': 'Slovakia', 'Luxembourg': 'Luxembourg', 'Ljubljana': 'Slovenia'\n",
    "}\n",
    "# словарь города-страны\n",
    "\n",
    "data['Country'] = data.City.replace(country_dict)\n",
    "print(data.Country.value_counts())\n",
    "\n",
    "A = list(data.Country.value_counts().keys())\n",
    "B = range(0, len(A))\n",
    "dict_country = dict(zip(A, B))\n",
    "# словарь со значениями стран\n",
    "\n",
    "\n",
    "data['Country_ind'] = data['Country'].replace(A, B)\n",
    "\n",
    "print(len(data.Country_ind))\n",
    "print(type(data.Country_ind[1]))"
   ]
  },
  {
   "cell_type": "markdown",
   "metadata": {},
   "source": [
    "**Добавим столбик с отношением кол-ва отзывов к населению (как часто пишут их)**"
   ]
  },
  {
   "cell_type": "code",
   "execution_count": 568,
   "metadata": {},
   "outputs": [
    {
     "name": "stdout",
     "output_type": "stream",
     "text": [
      "50000\n",
      "<class 'numpy.float64'>\n"
     ]
    }
   ],
   "source": [
    "data['rew_on_pop'] = data['Number_of_Reviews']/data['population']\n",
    "data['rew_on_pop'] = data['rew_on_pop'].fillna(0)\n",
    "\n",
    "print(len(data.rew_on_pop))\n",
    "print(type(data.rew_on_pop[1]))"
   ]
  },
  {
   "cell_type": "markdown",
   "metadata": {},
   "source": [
    "**Проверяем столбец с Cuisine_Style (кухня или кухни, к которым можно отнести блюда, предлагаемые в ресторане)**"
   ]
  },
  {
   "cell_type": "code",
   "execution_count": 569,
   "metadata": {},
   "outputs": [],
   "source": [
    "# # сформируем список достаточно уникальных кухонь и сформируем на его основе новый признак\n",
    "# list_of_unique_Cuisine = [x[0] for x in temp_counter.most_common()[-16:]]\n",
    "# data['unique_Cuisine_Style'] = data['Cuisine_Style'].apply(lambda x: 1 if len(set(x) & set(list_of_unique_Cuisine))>0  else 0).astype('float64')"
   ]
  },
  {
   "cell_type": "code",
   "execution_count": 570,
   "metadata": {},
   "outputs": [
    {
     "data": {
      "text/plain": [
       "11590"
      ]
     },
     "execution_count": 570,
     "metadata": {},
     "output_type": "execute_result"
    }
   ],
   "source": [
    "len(data[data['Cuisine_Style'].isna()])"
   ]
  },
  {
   "cell_type": "code",
   "execution_count": 571,
   "metadata": {},
   "outputs": [],
   "source": [
    "# в переменной 11590 (23.2%) пропущенных значений \n",
    "# сохраним эту информацию\n",
    "data['NAN_Cuisine Style'] = pd.isna(data['Cuisine_Style']).astype('float64') \n",
    "\n",
    "\n",
    "data['Cuisine_Style'] = data['Cuisine_Style'].fillna(\"['No_info']\")\n",
    "# заменяем пропуски\n",
    "\n",
    "# закодируем значения в переменной до их преобразования\n",
    "le = LabelEncoder()\n",
    "le.fit(data['Cuisine_Style'])\n",
    "data['code_Cuisine Style'] = le.transform(data['Cuisine_Style'])"
   ]
  },
  {
   "cell_type": "code",
   "execution_count": 572,
   "metadata": {},
   "outputs": [
    {
     "name": "stdout",
     "output_type": "stream",
     "text": [
      "50000\n",
      "50000\n"
     ]
    }
   ],
   "source": [
    "# проведем обработку значений переменной\n",
    "data['Cuisine_Style'] = data['Cuisine_Style'].str.findall(r\"'(\\b.*?\\b)'\")\n",
    "\n",
    "temp_list = data['Cuisine_Style'].tolist()\n",
    "\n",
    "def list_unrar(list_of_lists):\n",
    "    # функция создает общий список стилей кухни\n",
    "    result=[]\n",
    "    for lst in list_of_lists:\n",
    "        result.extend(lst)\n",
    "    return result\n",
    "\n",
    "# создаем счетчик стилей кухни\n",
    "coun=Counter(list_unrar(temp_list))\n",
    "\n",
    "\n",
    "\n",
    "# сформируем список достаточно уникальных кухонь и сформируем на его основе новый признак\n",
    "list_of_unique_Cuisine = [x[0] for x in coun.most_common()[-16:]]\n",
    "data['unique_Cuisine_Style'] = data['Cuisine_Style'].apply(lambda x: 1 if len(set(x) & set(list_of_unique_Cuisine))>0  else 0).astype('float64')\n",
    "\n",
    "data['Cuisine_Style2'] = data['Cuisine_Style']\n",
    "\n",
    "# coun = Counter(b)  # подсчитываем количество каждого стиля кухни\n",
    "coun = dict(coun)\n",
    "coun = pd.DataFrame({'count': coun}, columns=['count'])\n",
    "# находим среднее количество используемых стилей кухни\n",
    "a = coun['count'].mean()\n",
    "\n",
    "b = set(coun.query('count > @a').index)\n",
    "# оставляем только самые популярные кухни\n",
    "\n",
    "c = set(coun.index) - b\n",
    "# находим непопулярные кухни\n",
    "\n",
    "cus_st = pd.DataFrame(data['Cuisine_Style2'].to_list()).stack()\n",
    "for item in c:\n",
    "    cus_st = cus_st.replace(item, 'other_cuisine_style')\n",
    "cus_st = cus_st.groupby(level=[0]).apply(\",\".join).reset_index()\n",
    "data['Cuisine_Style'] = cus_st[0]\n",
    "# заменяем непопулярные кухни на 'other'\n",
    "\n",
    "\n",
    "b.add('other_cuisine_style')\n",
    "\n",
    "def find_item(cell):\n",
    "    if item in cell:\n",
    "        return 1\n",
    "    return 0\n",
    "\n",
    "\n",
    "for item in b:\n",
    "    data[item] = data['Cuisine_Style'].apply(find_item).astype(np.uint8)\n",
    "# преобразуем в dummy переменную\n",
    "\n",
    "\n",
    "data['count_Cuisine_Style'] = data['Cuisine_Style2'].apply(lambda x: len(x))\n",
    "# подсчитываем количество используемых стилей кухни в ресторане\n",
    "\n",
    "print(len(data['Cuisine_Style']))\n",
    "print(len(data['count_Cuisine_Style']))\n",
    "# пропуски заменены, строки преобразованы в столбцы"
   ]
  },
  {
   "cell_type": "code",
   "execution_count": 573,
   "metadata": {},
   "outputs": [
    {
     "name": "stdout",
     "output_type": "stream",
     "text": [
      "<class 'pandas.core.frame.DataFrame'>\n",
      "RangeIndex: 50000 entries, 0 to 49999\n",
      "Data columns (total 80 columns):\n",
      " #   Column                Non-Null Count  Dtype  \n",
      "---  ------                --------------  -----  \n",
      " 0   Restaurant_id         50000 non-null  int64  \n",
      " 1   City                  50000 non-null  object \n",
      " 2   Cuisine_Style         50000 non-null  object \n",
      " 3   Ranking               50000 non-null  float64\n",
      " 4   Price_Range           32639 non-null  object \n",
      " 5   Number_of_Reviews     46800 non-null  float64\n",
      " 6   Reviews               49998 non-null  object \n",
      " 7   URL_TA                50000 non-null  object \n",
      " 8   ID_TA                 50000 non-null  object \n",
      " 9   sample                50000 non-null  int64  \n",
      " 10  Rating                50000 non-null  float64\n",
      " 11  chain                 50000 non-null  int64  \n",
      " 12  Amsterdam             50000 non-null  uint8  \n",
      " 13  Athens                50000 non-null  uint8  \n",
      " 14  Barcelona             50000 non-null  uint8  \n",
      " 15  Berlin                50000 non-null  uint8  \n",
      " 16  Bratislava            50000 non-null  uint8  \n",
      " 17  Brussels              50000 non-null  uint8  \n",
      " 18  Budapest              50000 non-null  uint8  \n",
      " 19  Copenhagen            50000 non-null  uint8  \n",
      " 20  Dublin                50000 non-null  uint8  \n",
      " 21  Edinburgh             50000 non-null  uint8  \n",
      " 22  Geneva                50000 non-null  uint8  \n",
      " 23  Hamburg               50000 non-null  uint8  \n",
      " 24  Helsinki              50000 non-null  uint8  \n",
      " 25  Krakow                50000 non-null  uint8  \n",
      " 26  Lisbon                50000 non-null  uint8  \n",
      " 27  Ljubljana             50000 non-null  uint8  \n",
      " 28  London                50000 non-null  uint8  \n",
      " 29  Luxembourg            50000 non-null  uint8  \n",
      " 30  Lyon                  50000 non-null  uint8  \n",
      " 31  Madrid                50000 non-null  uint8  \n",
      " 32  Milan                 50000 non-null  uint8  \n",
      " 33  Munich                50000 non-null  uint8  \n",
      " 34  Oporto                50000 non-null  uint8  \n",
      " 35  Oslo                  50000 non-null  uint8  \n",
      " 36  Paris                 50000 non-null  uint8  \n",
      " 37  Prague                50000 non-null  uint8  \n",
      " 38  Rome                  50000 non-null  uint8  \n",
      " 39  Stockholm             50000 non-null  uint8  \n",
      " 40  Vienna                50000 non-null  uint8  \n",
      " 41  Warsaw                50000 non-null  uint8  \n",
      " 42  Zurich                50000 non-null  uint8  \n",
      " 43  Len_rest_in_city      50000 non-null  float64\n",
      " 44  Std_ranking           50000 non-null  float64\n",
      " 45  population            50000 non-null  int64  \n",
      " 46  Country               50000 non-null  object \n",
      " 47  Country_ind           50000 non-null  int64  \n",
      " 48  rew_on_pop            50000 non-null  float64\n",
      " 49  NAN_Cuisine Style     50000 non-null  float64\n",
      " 50  code_Cuisine Style    50000 non-null  int32  \n",
      " 51  unique_Cuisine_Style  50000 non-null  float64\n",
      " 52  Cuisine_Style2        50000 non-null  object \n",
      " 53  Cafe                  50000 non-null  uint8  \n",
      " 54  Vegetarian Friendly   50000 non-null  uint8  \n",
      " 55  British               50000 non-null  uint8  \n",
      " 56  other_cuisine_style   50000 non-null  uint8  \n",
      " 57  Vegan Options         50000 non-null  uint8  \n",
      " 58  Seafood               50000 non-null  uint8  \n",
      " 59  Asian                 50000 non-null  uint8  \n",
      " 60  Sushi                 50000 non-null  uint8  \n",
      " 61  Fast Food             50000 non-null  uint8  \n",
      " 62  Portuguese            50000 non-null  uint8  \n",
      " 63  Central European      50000 non-null  uint8  \n",
      " 64  American              50000 non-null  uint8  \n",
      " 65  Pizza                 50000 non-null  uint8  \n",
      " 66  Indian                50000 non-null  uint8  \n",
      " 67  Gluten Free Options   50000 non-null  uint8  \n",
      " 68  Italian               50000 non-null  uint8  \n",
      " 69  Bar                   50000 non-null  uint8  \n",
      " 70  No_info               50000 non-null  uint8  \n",
      " 71  French                50000 non-null  uint8  \n",
      " 72  Pub                   50000 non-null  uint8  \n",
      " 73  European              50000 non-null  uint8  \n",
      " 74  Spanish               50000 non-null  uint8  \n",
      " 75  Chinese               50000 non-null  uint8  \n",
      " 76  Mediterranean         50000 non-null  uint8  \n",
      " 77  Japanese              50000 non-null  uint8  \n",
      " 78  International         50000 non-null  uint8  \n",
      " 79  count_Cuisine_Style   50000 non-null  int64  \n",
      "dtypes: float64(8), int32(1), int64(6), object(8), uint8(57)\n",
      "memory usage: 9.8+ MB\n"
     ]
    }
   ],
   "source": [
    "data.info()"
   ]
  },
  {
   "cell_type": "markdown",
   "metadata": {},
   "source": [
    "**Проверяем столбец с Price_Range (диапазон цен в ресторане)**"
   ]
  },
  {
   "cell_type": "code",
   "execution_count": 574,
   "metadata": {},
   "outputs": [
    {
     "name": "stdout",
     "output_type": "stream",
     "text": [
      "count        32639\n",
      "unique           3\n",
      "top       $$ - $$$\n",
      "freq         23041\n",
      "Name: Price_Range, dtype: object\n"
     ]
    }
   ],
   "source": [
    "print(data.Price_Range.describe())"
   ]
  },
  {
   "cell_type": "code",
   "execution_count": 575,
   "metadata": {},
   "outputs": [
    {
     "name": "stdout",
     "output_type": "stream",
     "text": [
      "\n",
      "50000\n",
      "<class 'numpy.float64'>\n"
     ]
    }
   ],
   "source": [
    "price_dict ={'$':1, '$$ - $$$':2, '$$$$':3}\n",
    "data['price_rank'] = data['Price_Range'].replace(price_dict)\n",
    "# делаем замену текста на числа\n",
    "\n",
    "price_mode = data['price_rank'].mode()\n",
    "data['price_rank'].fillna(int(price_mode), inplace=True)\n",
    "# пропущенные значения заменяем самой частой величиной\n",
    "\n",
    "print('')\n",
    "print(len(data.price_rank))\n",
    "print(type(data.price_rank[1]))\n",
    "# заменили буквенные индефикаторы на численные"
   ]
  },
  {
   "cell_type": "markdown",
   "metadata": {},
   "source": [
    "**Проверяем столбец с Reviews (данные о двух отзывах, которые отображаются на сайте ресторана)**"
   ]
  },
  {
   "cell_type": "code",
   "execution_count": 576,
   "metadata": {},
   "outputs": [
    {
     "name": "stdout",
     "output_type": "stream",
     "text": [
      "count        49998\n",
      "unique       41857\n",
      "top       [[], []]\n",
      "freq          8112\n",
      "Name: Reviews, dtype: object\n"
     ]
    }
   ],
   "source": [
    "print(data.Reviews.describe())"
   ]
  },
  {
   "cell_type": "code",
   "execution_count": 577,
   "metadata": {},
   "outputs": [],
   "source": [
    "from datetime import datetime, date, time\n",
    "data['Reviews'] = data.Reviews.replace(\"[[], []]\", 'No_info')\n",
    "# заменяем пропуски"
   ]
  },
  {
   "cell_type": "code",
   "execution_count": 578,
   "metadata": {},
   "outputs": [],
   "source": [
    "data['Last_rew'] = data['Reviews']\n",
    "\n",
    "data['Last_rew']=data['Last_rew'].str[-27:-17]\n",
    "\n",
    "now = datetime.now()"
   ]
  },
  {
   "cell_type": "code",
   "execution_count": 579,
   "metadata": {},
   "outputs": [
    {
     "data": {
      "text/plain": [
       "0                  \n",
       "1        12/05/2017\n",
       "2        12/28/2017\n",
       "3        12/06/2017\n",
       "4        02/08/2018\n",
       "            ...    \n",
       "49995    12/16/2017\n",
       "49996    12/21/2017\n",
       "49997    11/03/2016\n",
       "49998    07/11/2017\n",
       "49999    01/31/2016\n",
       "Name: Last_rew, Length: 50000, dtype: object"
      ]
     },
     "execution_count": 579,
     "metadata": {},
     "output_type": "execute_result"
    }
   ],
   "source": [
    "data['Last_rew']"
   ]
  },
  {
   "cell_type": "code",
   "execution_count": 580,
   "metadata": {},
   "outputs": [
    {
     "name": "stderr",
     "output_type": "stream",
     "text": [
      "<ipython-input-580-b5efd9320d8b>:2: SettingWithCopyWarning: \n",
      "A value is trying to be set on a copy of a slice from a DataFrame\n",
      "\n",
      "See the caveats in the documentation: https://pandas.pydata.org/pandas-docs/stable/user_guide/indexing.html#returning-a-view-versus-a-copy\n",
      "  data['Last_rew'][data.Last_rew.str.contains(\"]\")==True] = '01/01/2000'\n"
     ]
    }
   ],
   "source": [
    "#base['Last_rew'][base.Last_rew.str.contains(\"]\")]=now\n",
    "data['Last_rew'][data.Last_rew.str.contains(\"]\")==True] = '01/01/2000'\n",
    "data['Last_rew'] = data['Last_rew'].fillna('01/01/2000')"
   ]
  },
  {
   "cell_type": "code",
   "execution_count": 581,
   "metadata": {},
   "outputs": [],
   "source": [
    "data['Last_rew'] = data['Last_rew'].apply(pd.to_datetime) "
   ]
  },
  {
   "cell_type": "code",
   "execution_count": 582,
   "metadata": {},
   "outputs": [],
   "source": [
    "data['Last_rew_data'] = now - data['Last_rew']"
   ]
  },
  {
   "cell_type": "code",
   "execution_count": 583,
   "metadata": {},
   "outputs": [],
   "source": [
    "data['Last_rew_data'] = data['Last_rew_data'].apply(lambda x: x.total_seconds())# [i.total_seconds() for i in data.Last_rew_data]"
   ]
  },
  {
   "cell_type": "code",
   "execution_count": 584,
   "metadata": {},
   "outputs": [
    {
     "name": "stdout",
     "output_type": "stream",
     "text": [
      "\n",
      "50000\n",
      "<class 'numpy.int64'>\n"
     ]
    }
   ],
   "source": [
    "data['Last_rew_data'] = data['Last_rew_data'].fillna(data['Last_rew_data'].max())\n",
    "data['Last_rew_data'] = data['Last_rew_data'].astype(np.int64)\n",
    "print('')\n",
    "print(len(data.Last_rew_data))\n",
    "print(type(data.Last_rew_data[1]))"
   ]
  },
  {
   "cell_type": "markdown",
   "metadata": {},
   "source": [
    "**Проверяем столбец с Number_of_Reviews (количество отзывов о ресторане)**"
   ]
  },
  {
   "cell_type": "code",
   "execution_count": 585,
   "metadata": {},
   "outputs": [
    {
     "name": "stdout",
     "output_type": "stream",
     "text": [
      "count    46800.000000\n",
      "mean       124.471197\n",
      "std        294.114345\n",
      "min          2.000000\n",
      "25%          9.000000\n",
      "50%         33.000000\n",
      "75%        115.000000\n",
      "max       9660.000000\n",
      "Name: Number_of_Reviews, dtype: float64\n"
     ]
    }
   ],
   "source": [
    "m=data['Number_of_Reviews'].mean()\n",
    "print(data['Number_of_Reviews'].describe())\n",
    "# отрицательных чисел нет"
   ]
  },
  {
   "cell_type": "code",
   "execution_count": 586,
   "metadata": {},
   "outputs": [
    {
     "data": {
      "text/plain": [
       "2.0       2403\n",
       "3.0       2042\n",
       "4.0       1707\n",
       "5.0       1471\n",
       "6.0       1258\n",
       "          ... \n",
       "5216.0       1\n",
       "1932.0       1\n",
       "1050.0       1\n",
       "1145.0       1\n",
       "1471.0       1\n",
       "Name: Number_of_Reviews, Length: 1573, dtype: int64"
      ]
     },
     "execution_count": 586,
     "metadata": {},
     "output_type": "execute_result"
    }
   ],
   "source": [
    "\n",
    "data['Number_of_Reviews'].value_counts()\n",
    "# но есть пропуски, нужно проверить, что где есть пропуски - там действительно нет отзывов"
   ]
  },
  {
   "cell_type": "code",
   "execution_count": 587,
   "metadata": {},
   "outputs": [],
   "source": [
    "data['Number_of_Reviews'] = data['Number_of_Reviews'].fillna('No_info')\n",
    "# меняем пропуски на Not_info"
   ]
  },
  {
   "cell_type": "code",
   "execution_count": 588,
   "metadata": {},
   "outputs": [
    {
     "name": "stderr",
     "output_type": "stream",
     "text": [
      "<ipython-input-588-7b6a50cd5b63>:3: SettingWithCopyWarning: \n",
      "A value is trying to be set on a copy of a slice from a DataFrame\n",
      "\n",
      "See the caveats in the documentation: https://pandas.pydata.org/pandas-docs/stable/user_guide/indexing.html#returning-a-view-versus-a-copy\n",
      "  data['Number_of_Reviews'][b] = 0\n",
      "c:\\users\\пользователь\\appdata\\local\\programs\\python\\python38-32\\lib\\site-packages\\pandas\\core\\indexing.py:670: SettingWithCopyWarning: \n",
      "A value is trying to be set on a copy of a slice from a DataFrame\n",
      "\n",
      "See the caveats in the documentation: https://pandas.pydata.org/pandas-docs/stable/user_guide/indexing.html#returning-a-view-versus-a-copy\n",
      "  iloc._setitem_with_indexer(indexer, value)\n"
     ]
    }
   ],
   "source": [
    "a = data.query('Reviews == \"No_info\" & Number_of_Reviews == \"No_info\"')\n",
    "b = list(a.index)\n",
    "data['Number_of_Reviews'][b] = 0\n",
    "# где нет значения кол-ва отзывов и превью отзывов - ставим 0"
   ]
  },
  {
   "cell_type": "code",
   "execution_count": 589,
   "metadata": {},
   "outputs": [
    {
     "data": {
      "text/plain": [
       "50000"
      ]
     },
     "execution_count": 589,
     "metadata": {},
     "output_type": "execute_result"
    }
   ],
   "source": [
    "len(data['Number_of_Reviews'])\n",
    "# заменили предполагаемые пропуски"
   ]
  },
  {
   "cell_type": "code",
   "execution_count": 590,
   "metadata": {},
   "outputs": [
    {
     "name": "stdout",
     "output_type": "stream",
     "text": [
      "\n",
      "50000\n",
      "<class 'numpy.float64'>\n"
     ]
    }
   ],
   "source": [
    "data['Number_of_Reviews'] = data['Number_of_Reviews'].replace('No_info', m)\n",
    "\n",
    "# пропуски, которые не смогли заполнить, заполняем медианным значением\n",
    "\n",
    "print('')\n",
    "print(len(data.Number_of_Reviews))\n",
    "print(type(data.Number_of_Reviews[1]))"
   ]
  },
  {
   "cell_type": "markdown",
   "metadata": {},
   "source": [
    "**Добавляем столбик с отношением кол-ва отзывов по одному ресторану к общему кол-ву отзывов по городу**"
   ]
  },
  {
   "cell_type": "code",
   "execution_count": 591,
   "metadata": {},
   "outputs": [],
   "source": [
    "A = list(data.City.value_counts().keys())\n",
    "data1=pd.DataFrame()\n",
    "data1['City'] = data['City']\n",
    "data1['Number_of_Reviews']=data['Number_of_Reviews']"
   ]
  },
  {
   "cell_type": "code",
   "execution_count": 592,
   "metadata": {},
   "outputs": [],
   "source": [
    "data2=pd.DataFrame(data1.groupby(['City']).sum())\n",
    "data2=data2['Number_of_Reviews']\n",
    "A=list(data2.keys())\n",
    "B=list(data2)\n"
   ]
  },
  {
   "cell_type": "code",
   "execution_count": 593,
   "metadata": {},
   "outputs": [],
   "source": [
    "data['Len_rew'] = data['City'].replace(A, B)\n",
    "\n",
    "data['Std_num_rew']=data['Number_of_Reviews']/data['Len_rew']"
   ]
  },
  {
   "cell_type": "markdown",
   "metadata": {},
   "source": [
    "**проверяем м столбец с ID_TA (идентификатор ресторана в базе данных TripAdvisor)**"
   ]
  },
  {
   "cell_type": "code",
   "execution_count": 594,
   "metadata": {},
   "outputs": [
    {
     "name": "stdout",
     "output_type": "stream",
     "text": [
      "count        50000\n",
      "unique       49963\n",
      "top       d9877640\n",
      "freq             2\n",
      "Name: ID_TA, dtype: object\n"
     ]
    }
   ],
   "source": [
    "print(data['ID_TA'].describe())"
   ]
  },
  {
   "cell_type": "code",
   "execution_count": 595,
   "metadata": {},
   "outputs": [],
   "source": [
    "data['ID_TA']=data['ID_TA'].str[1:]\n",
    "data.ID_TA = [float(i) for i in data.ID_TA]"
   ]
  },
  {
   "cell_type": "code",
   "execution_count": 596,
   "metadata": {},
   "outputs": [
    {
     "name": "stdout",
     "output_type": "stream",
     "text": [
      "\n",
      "50000\n",
      "<class 'numpy.float64'>\n"
     ]
    }
   ],
   "source": [
    "print('')\n",
    "print(len(data.ID_TA))\n",
    "print(type(data.ID_TA[1]))"
   ]
  },
  {
   "cell_type": "code",
   "execution_count": 597,
   "metadata": {},
   "outputs": [
    {
     "data": {
      "text/plain": [
       "<AxesSubplot:>"
      ]
     },
     "execution_count": 597,
     "metadata": {},
     "output_type": "execute_result"
    },
    {
     "data": {
      "image/png": "[encoded data removed]",
      "text/plain": [
       "<Figure size 720x504 with 1 Axes>"
      ]
     },
     "metadata": {
      "needs_background": "light"
     },
     "output_type": "display_data"
    }
   ],
   "source": [
    "plt.rcParams['figure.figsize'] = (10,7)\n",
    "data['Ranking'].hist(bins=100)"
   ]
  },
  {
   "cell_type": "code",
   "execution_count": 598,
   "metadata": {},
   "outputs": [
    {
     "data": {
      "text/plain": [
       "<AxesSubplot:>"
      ]
     },
     "execution_count": 598,
     "metadata": {},
     "output_type": "execute_result"
    },
    {
     "data": {
      "image/png": "[encoded data removed]",
      "text/plain": [
       "<Figure size 720x504 with 1 Axes>"
      ]
     },
     "metadata": {
      "needs_background": "light"
     },
     "output_type": "display_data"
    }
   ],
   "source": [
    "data['City'].value_counts(ascending=True).plot(kind='barh')"
   ]
  },
  {
   "cell_type": "code",
   "execution_count": 599,
   "metadata": {},
   "outputs": [
    {
     "data": {
      "text/plain": [
       "<AxesSubplot:>"
      ]
     },
     "execution_count": 599,
     "metadata": {},
     "output_type": "execute_result"
    },
    {
     "data": {
      "image/png": "[encoded data removed]",
      "text/plain": [
       "<Figure size 720x504 with 1 Axes>"
      ]
     },
     "metadata": {
      "needs_background": "light"
     },
     "output_type": "display_data"
    }
   ],
   "source": [
    "data['Ranking'][data['City'] =='London'].hist(bins=100)"
   ]
  },
  {
   "cell_type": "code",
   "execution_count": 600,
   "metadata": {},
   "outputs": [
    {
     "data": {
      "image/png": "[encoded data removed]",
      "text/plain": [
       "<Figure size 720x504 with 1 Axes>"
      ]
     },
     "metadata": {
      "needs_background": "light"
     },
     "output_type": "display_data"
    }
   ],
   "source": [
    "# посмотрим на топ 10 городов\n",
    "for x in (data['City'].value_counts())[0:10].index:\n",
    "    data['Ranking'][data['City'] == x].hist(bins=100)\n",
    "plt.show()"
   ]
  },
  {
   "cell_type": "markdown",
   "metadata": {},
   "source": [
    "### Посмотрим распределение целевой переменной"
   ]
  },
  {
   "cell_type": "code",
   "execution_count": 601,
   "metadata": {},
   "outputs": [
    {
     "data": {
      "text/plain": [
       "<AxesSubplot:>"
      ]
     },
     "execution_count": 601,
     "metadata": {},
     "output_type": "execute_result"
    },
    {
     "data": {
      "image/png": "[encoded data removed]",
      "text/plain": [
       "<Figure size 720x504 with 1 Axes>"
      ]
     },
     "metadata": {
      "needs_background": "light"
     },
     "output_type": "display_data"
    }
   ],
   "source": [
    "data['Rating'].value_counts(ascending=True).plot(kind='barh')"
   ]
  },
  {
   "cell_type": "markdown",
   "metadata": {},
   "source": [
    "### Посмотрим распределение целевой переменной относительно признака"
   ]
  },
  {
   "cell_type": "code",
   "execution_count": 602,
   "metadata": {},
   "outputs": [
    {
     "data": {
      "text/plain": [
       "<AxesSubplot:>"
      ]
     },
     "execution_count": 602,
     "metadata": {},
     "output_type": "execute_result"
    },
    {
     "data": {
      "image/png": "[encoded data removed]",
      "text/plain": [
       "<Figure size 720x504 with 1 Axes>"
      ]
     },
     "metadata": {
      "needs_background": "light"
     },
     "output_type": "display_data"
    }
   ],
   "source": [
    "data['Ranking'][data['Rating'] == 5].hist(bins=100)"
   ]
  },
  {
   "cell_type": "code",
   "execution_count": 603,
   "metadata": {},
   "outputs": [
    {
     "data": {
      "text/plain": [
       "<AxesSubplot:>"
      ]
     },
     "execution_count": 603,
     "metadata": {},
     "output_type": "execute_result"
    },
    {
     "data": {
      "image/png": "[encoded data removed]",
      "text/plain": [
       "<Figure size 720x504 with 1 Axes>"
      ]
     },
     "metadata": {
      "needs_background": "light"
     },
     "output_type": "display_data"
    }
   ],
   "source": [
    "data['Ranking'][data['Rating'] < 4].hist(bins=100)"
   ]
  },
  {
   "cell_type": "code",
   "execution_count": 604,
   "metadata": {},
   "outputs": [
    {
     "data": {
      "text/plain": [
       "<AxesSubplot:>"
      ]
     },
     "execution_count": 604,
     "metadata": {},
     "output_type": "execute_result"
    },
    {
     "data": {
      "image/png": "[encoded data removed]",
      "text/plain": [
       "<Figure size 1080x720 with 2 Axes>"
      ]
     },
     "metadata": {
      "needs_background": "light"
     },
     "output_type": "display_data"
    }
   ],
   "source": [
    "plt.rcParams['figure.figsize'] = (15,10)\n",
    "sns.heatmap(data[col].drop(['sample'], axis=1).corr(),)"
   ]
  },
  {
   "cell_type": "markdown",
   "metadata": {},
   "source": [
    "# Data Preprocessing"
   ]
  },
  {
   "cell_type": "markdown",
   "metadata": {},
   "source": [
    "**Удалим все ненужные или неполезные столбики, которые портят нам результат**"
   ]
  },
  {
   "cell_type": "code",
   "execution_count": 605,
   "metadata": {},
   "outputs": [],
   "source": [
    "data = data.drop('URL_TA', axis=1)\n",
    "data = data.drop('Reviews', axis=1)\n",
    "data = data.drop('Last_rew', axis=1)\n",
    "data = data.drop('City', axis=1)\n",
    "data = data.drop('Country', axis=1)\n",
    "data = data.drop('Restaurant_id', axis=1)\n",
    "data = data.drop('chain', axis=1)\n",
    "data = data.drop('Cuisine_Style', axis=1)\n",
    "data = data.drop('Cuisine_Style2', axis=1)\n",
    "data = data.drop('Price_Range', axis=1)\n"
   ]
  },
  {
   "cell_type": "code",
   "execution_count": 606,
   "metadata": {},
   "outputs": [
    {
     "name": "stdout",
     "output_type": "stream",
     "text": [
      "<class 'pandas.core.frame.DataFrame'>\n",
      "RangeIndex: 50000 entries, 0 to 49999\n",
      "Data columns (total 75 columns):\n",
      " #   Column                Non-Null Count  Dtype  \n",
      "---  ------                --------------  -----  \n",
      " 0   Ranking               50000 non-null  float64\n",
      " 1   Number_of_Reviews     50000 non-null  float64\n",
      " 2   ID_TA                 50000 non-null  float64\n",
      " 3   sample                50000 non-null  int64  \n",
      " 4   Rating                50000 non-null  float64\n",
      " 5   Amsterdam             50000 non-null  uint8  \n",
      " 6   Athens                50000 non-null  uint8  \n",
      " 7   Barcelona             50000 non-null  uint8  \n",
      " 8   Berlin                50000 non-null  uint8  \n",
      " 9   Bratislava            50000 non-null  uint8  \n",
      " 10  Brussels              50000 non-null  uint8  \n",
      " 11  Budapest              50000 non-null  uint8  \n",
      " 12  Copenhagen            50000 non-null  uint8  \n",
      " 13  Dublin                50000 non-null  uint8  \n",
      " 14  Edinburgh             50000 non-null  uint8  \n",
      " 15  Geneva                50000 non-null  uint8  \n",
      " 16  Hamburg               50000 non-null  uint8  \n",
      " 17  Helsinki              50000 non-null  uint8  \n",
      " 18  Krakow                50000 non-null  uint8  \n",
      " 19  Lisbon                50000 non-null  uint8  \n",
      " 20  Ljubljana             50000 non-null  uint8  \n",
      " 21  London                50000 non-null  uint8  \n",
      " 22  Luxembourg            50000 non-null  uint8  \n",
      " 23  Lyon                  50000 non-null  uint8  \n",
      " 24  Madrid                50000 non-null  uint8  \n",
      " 25  Milan                 50000 non-null  uint8  \n",
      " 26  Munich                50000 non-null  uint8  \n",
      " 27  Oporto                50000 non-null  uint8  \n",
      " 28  Oslo                  50000 non-null  uint8  \n",
      " 29  Paris                 50000 non-null  uint8  \n",
      " 30  Prague                50000 non-null  uint8  \n",
      " 31  Rome                  50000 non-null  uint8  \n",
      " 32  Stockholm             50000 non-null  uint8  \n",
      " 33  Vienna                50000 non-null  uint8  \n",
      " 34  Warsaw                50000 non-null  uint8  \n",
      " 35  Zurich                50000 non-null  uint8  \n",
      " 36  Len_rest_in_city      50000 non-null  float64\n",
      " 37  Std_ranking           50000 non-null  float64\n",
      " 38  population            50000 non-null  int64  \n",
      " 39  Country_ind           50000 non-null  int64  \n",
      " 40  rew_on_pop            50000 non-null  float64\n",
      " 41  NAN_Cuisine Style     50000 non-null  float64\n",
      " 42  code_Cuisine Style    50000 non-null  int32  \n",
      " 43  unique_Cuisine_Style  50000 non-null  float64\n",
      " 44  Cafe                  50000 non-null  uint8  \n",
      " 45  Vegetarian Friendly   50000 non-null  uint8  \n",
      " 46  British               50000 non-null  uint8  \n",
      " 47  other_cuisine_style   50000 non-null  uint8  \n",
      " 48  Vegan Options         50000 non-null  uint8  \n",
      " 49  Seafood               50000 non-null  uint8  \n",
      " 50  Asian                 50000 non-null  uint8  \n",
      " 51  Sushi                 50000 non-null  uint8  \n",
      " 52  Fast Food             50000 non-null  uint8  \n",
      " 53  Portuguese            50000 non-null  uint8  \n",
      " 54  Central European      50000 non-null  uint8  \n",
      " 55  American              50000 non-null  uint8  \n",
      " 56  Pizza                 50000 non-null  uint8  \n",
      " 57  Indian                50000 non-null  uint8  \n",
      " 58  Gluten Free Options   50000 non-null  uint8  \n",
      " 59  Italian               50000 non-null  uint8  \n",
      " 60  Bar                   50000 non-null  uint8  \n",
      " 61  No_info               50000 non-null  uint8  \n",
      " 62  French                50000 non-null  uint8  \n",
      " 63  Pub                   50000 non-null  uint8  \n",
      " 64  European              50000 non-null  uint8  \n",
      " 65  Spanish               50000 non-null  uint8  \n",
      " 66  Chinese               50000 non-null  uint8  \n",
      " 67  Mediterranean         50000 non-null  uint8  \n",
      " 68  Japanese              50000 non-null  uint8  \n",
      " 69  International         50000 non-null  uint8  \n",
      " 70  count_Cuisine_Style   50000 non-null  int64  \n",
      " 71  price_rank            50000 non-null  float64\n",
      " 72  Last_rew_data         50000 non-null  int64  \n",
      " 73  Len_rew               50000 non-null  float64\n",
      " 74  Std_num_rew           50000 non-null  float64\n",
      "dtypes: float64(12), int32(1), int64(5), uint8(57)\n",
      "memory usage: 9.4 MB\n"
     ]
    }
   ],
   "source": [
    "data.info()"
   ]
  },
  {
   "cell_type": "code",
   "execution_count": 607,
   "metadata": {},
   "outputs": [
    {
     "data": {
      "text/plain": [
       "<AxesSubplot:>"
      ]
     },
     "execution_count": 607,
     "metadata": {},
     "output_type": "execute_result"
    },
    {
     "data": {
      "image/png": "[encoded data removed]",
      "text/plain": [
       "<Figure size 1080x720 with 2 Axes>"
      ]
     },
     "metadata": {
      "needs_background": "light"
     },
     "output_type": "display_data"
    }
   ],
   "source": [
    "plt.rcParams['figure.figsize'] = (15,10)\n",
    "sns.heatmap(data.drop(['sample'], axis=1).corr(),)"
   ]
  },
  {
   "cell_type": "code",
   "execution_count": 608,
   "metadata": {},
   "outputs": [
    {
     "data": {
      "text/html": [
       "<div>\n",
       "<style scoped>\n",
       "    .dataframe tbody tr th:only-of-type {\n",
       "        vertical-align: middle;\n",
       "    }\n",
       "\n",
       "    .dataframe tbody tr th {\n",
       "        vertical-align: top;\n",
       "    }\n",
       "\n",
       "    .dataframe thead th {\n",
       "        text-align: right;\n",
       "    }\n",
       "</style>\n",
       "<table border=\"1\" class=\"dataframe\">\n",
       "  <thead>\n",
       "    <tr style=\"text-align: right;\">\n",
       "      <th></th>\n",
       "      <th>Ranking</th>\n",
       "      <th>Number_of_Reviews</th>\n",
       "      <th>ID_TA</th>\n",
       "      <th>sample</th>\n",
       "      <th>Rating</th>\n",
       "      <th>Amsterdam</th>\n",
       "      <th>Athens</th>\n",
       "      <th>Barcelona</th>\n",
       "      <th>Berlin</th>\n",
       "      <th>Bratislava</th>\n",
       "      <th>...</th>\n",
       "      <th>Spanish</th>\n",
       "      <th>Chinese</th>\n",
       "      <th>Mediterranean</th>\n",
       "      <th>Japanese</th>\n",
       "      <th>International</th>\n",
       "      <th>count_Cuisine_Style</th>\n",
       "      <th>price_rank</th>\n",
       "      <th>Last_rew_data</th>\n",
       "      <th>Len_rew</th>\n",
       "      <th>Std_num_rew</th>\n",
       "    </tr>\n",
       "  </thead>\n",
       "  <tbody>\n",
       "    <tr>\n",
       "      <th>Ranking</th>\n",
       "      <td>1.000000</td>\n",
       "      <td>-0.217376</td>\n",
       "      <td>0.049756</td>\n",
       "      <td>0.006271</td>\n",
       "      <td>-0.109897</td>\n",
       "      <td>-0.094100</td>\n",
       "      <td>-0.094479</td>\n",
       "      <td>0.015683</td>\n",
       "      <td>-0.026436</td>\n",
       "      <td>-0.075731</td>\n",
       "      <td>...</td>\n",
       "      <td>-0.017153</td>\n",
       "      <td>0.047129</td>\n",
       "      <td>-0.147984</td>\n",
       "      <td>-0.000338</td>\n",
       "      <td>-0.070473</td>\n",
       "      <td>-0.322408</td>\n",
       "      <td>-0.026334</td>\n",
       "      <td>0.163821</td>\n",
       "      <td>0.658182</td>\n",
       "      <td>-0.232329</td>\n",
       "    </tr>\n",
       "    <tr>\n",
       "      <th>Number_of_Reviews</th>\n",
       "      <td>-0.217376</td>\n",
       "      <td>1.000000</td>\n",
       "      <td>-0.284098</td>\n",
       "      <td>0.002790</td>\n",
       "      <td>0.011626</td>\n",
       "      <td>0.014759</td>\n",
       "      <td>-0.012847</td>\n",
       "      <td>0.008504</td>\n",
       "      <td>-0.048738</td>\n",
       "      <td>-0.020242</td>\n",
       "      <td>...</td>\n",
       "      <td>0.050612</td>\n",
       "      <td>-0.014394</td>\n",
       "      <td>0.179481</td>\n",
       "      <td>0.003894</td>\n",
       "      <td>0.041856</td>\n",
       "      <td>0.403259</td>\n",
       "      <td>0.109645</td>\n",
       "      <td>-0.226769</td>\n",
       "      <td>0.084249</td>\n",
       "      <td>0.578057</td>\n",
       "    </tr>\n",
       "    <tr>\n",
       "      <th>ID_TA</th>\n",
       "      <td>0.049756</td>\n",
       "      <td>-0.284098</td>\n",
       "      <td>1.000000</td>\n",
       "      <td>-0.000315</td>\n",
       "      <td>0.049589</td>\n",
       "      <td>0.013201</td>\n",
       "      <td>0.022209</td>\n",
       "      <td>0.022178</td>\n",
       "      <td>-0.009061</td>\n",
       "      <td>0.012232</td>\n",
       "      <td>...</td>\n",
       "      <td>-0.028809</td>\n",
       "      <td>-0.037367</td>\n",
       "      <td>-0.109303</td>\n",
       "      <td>-0.021809</td>\n",
       "      <td>-0.015737</td>\n",
       "      <td>-0.220469</td>\n",
       "      <td>-0.061790</td>\n",
       "      <td>0.310678</td>\n",
       "      <td>-0.058565</td>\n",
       "      <td>-0.196850</td>\n",
       "    </tr>\n",
       "    <tr>\n",
       "      <th>sample</th>\n",
       "      <td>0.006271</td>\n",
       "      <td>0.002790</td>\n",
       "      <td>-0.000315</td>\n",
       "      <td>1.000000</td>\n",
       "      <td>0.936543</td>\n",
       "      <td>-0.003550</td>\n",
       "      <td>0.002912</td>\n",
       "      <td>0.003577</td>\n",
       "      <td>-0.001989</td>\n",
       "      <td>-0.001727</td>\n",
       "      <td>...</td>\n",
       "      <td>0.006544</td>\n",
       "      <td>-0.003521</td>\n",
       "      <td>0.002891</td>\n",
       "      <td>-0.006341</td>\n",
       "      <td>0.002881</td>\n",
       "      <td>-0.003202</td>\n",
       "      <td>-0.003419</td>\n",
       "      <td>-0.001064</td>\n",
       "      <td>0.003593</td>\n",
       "      <td>-0.003142</td>\n",
       "    </tr>\n",
       "    <tr>\n",
       "      <th>Rating</th>\n",
       "      <td>-0.109897</td>\n",
       "      <td>0.011626</td>\n",
       "      <td>0.049589</td>\n",
       "      <td>0.936543</td>\n",
       "      <td>1.000000</td>\n",
       "      <td>0.007447</td>\n",
       "      <td>0.016852</td>\n",
       "      <td>-0.000703</td>\n",
       "      <td>0.012834</td>\n",
       "      <td>-0.002550</td>\n",
       "      <td>...</td>\n",
       "      <td>-0.002147</td>\n",
       "      <td>-0.021039</td>\n",
       "      <td>0.018614</td>\n",
       "      <td>-0.010047</td>\n",
       "      <td>0.011148</td>\n",
       "      <td>0.034506</td>\n",
       "      <td>-0.012176</td>\n",
       "      <td>-0.007779</td>\n",
       "      <td>-0.006891</td>\n",
       "      <td>0.007586</td>\n",
       "    </tr>\n",
       "    <tr>\n",
       "      <th>...</th>\n",
       "      <td>...</td>\n",
       "      <td>...</td>\n",
       "      <td>...</td>\n",
       "      <td>...</td>\n",
       "      <td>...</td>\n",
       "      <td>...</td>\n",
       "      <td>...</td>\n",
       "      <td>...</td>\n",
       "      <td>...</td>\n",
       "      <td>...</td>\n",
       "      <td>...</td>\n",
       "      <td>...</td>\n",
       "      <td>...</td>\n",
       "      <td>...</td>\n",
       "      <td>...</td>\n",
       "      <td>...</td>\n",
       "      <td>...</td>\n",
       "      <td>...</td>\n",
       "      <td>...</td>\n",
       "      <td>...</td>\n",
       "      <td>...</td>\n",
       "    </tr>\n",
       "    <tr>\n",
       "      <th>count_Cuisine_Style</th>\n",
       "      <td>-0.322408</td>\n",
       "      <td>0.403259</td>\n",
       "      <td>-0.220469</td>\n",
       "      <td>-0.003202</td>\n",
       "      <td>0.034506</td>\n",
       "      <td>0.064104</td>\n",
       "      <td>-0.000820</td>\n",
       "      <td>0.007978</td>\n",
       "      <td>-0.045732</td>\n",
       "      <td>-0.019017</td>\n",
       "      <td>...</td>\n",
       "      <td>0.089345</td>\n",
       "      <td>0.013792</td>\n",
       "      <td>0.383432</td>\n",
       "      <td>0.103414</td>\n",
       "      <td>0.183671</td>\n",
       "      <td>1.000000</td>\n",
       "      <td>0.002816</td>\n",
       "      <td>-0.417551</td>\n",
       "      <td>0.033537</td>\n",
       "      <td>0.302433</td>\n",
       "    </tr>\n",
       "    <tr>\n",
       "      <th>price_rank</th>\n",
       "      <td>-0.026334</td>\n",
       "      <td>0.109645</td>\n",
       "      <td>-0.061790</td>\n",
       "      <td>-0.003419</td>\n",
       "      <td>-0.012176</td>\n",
       "      <td>-0.003031</td>\n",
       "      <td>-0.023953</td>\n",
       "      <td>-0.014778</td>\n",
       "      <td>-0.009564</td>\n",
       "      <td>0.011952</td>\n",
       "      <td>...</td>\n",
       "      <td>0.007876</td>\n",
       "      <td>-0.053128</td>\n",
       "      <td>0.018788</td>\n",
       "      <td>0.031982</td>\n",
       "      <td>0.041353</td>\n",
       "      <td>0.002816</td>\n",
       "      <td>1.000000</td>\n",
       "      <td>0.061518</td>\n",
       "      <td>-0.022929</td>\n",
       "      <td>0.079380</td>\n",
       "    </tr>\n",
       "    <tr>\n",
       "      <th>Last_rew_data</th>\n",
       "      <td>0.163821</td>\n",
       "      <td>-0.226769</td>\n",
       "      <td>0.310678</td>\n",
       "      <td>-0.001064</td>\n",
       "      <td>-0.007779</td>\n",
       "      <td>-0.063624</td>\n",
       "      <td>-0.012994</td>\n",
       "      <td>0.024041</td>\n",
       "      <td>0.033302</td>\n",
       "      <td>0.003380</td>\n",
       "      <td>...</td>\n",
       "      <td>-0.018395</td>\n",
       "      <td>-0.021603</td>\n",
       "      <td>-0.182432</td>\n",
       "      <td>-0.036554</td>\n",
       "      <td>-0.051778</td>\n",
       "      <td>-0.417551</td>\n",
       "      <td>0.061518</td>\n",
       "      <td>1.000000</td>\n",
       "      <td>-0.100436</td>\n",
       "      <td>-0.160065</td>\n",
       "    </tr>\n",
       "    <tr>\n",
       "      <th>Len_rew</th>\n",
       "      <td>0.658182</td>\n",
       "      <td>0.084249</td>\n",
       "      <td>-0.058565</td>\n",
       "      <td>0.003593</td>\n",
       "      <td>-0.006891</td>\n",
       "      <td>-0.104842</td>\n",
       "      <td>-0.128119</td>\n",
       "      <td>0.029723</td>\n",
       "      <td>-0.173398</td>\n",
       "      <td>-0.102737</td>\n",
       "      <td>...</td>\n",
       "      <td>-0.007509</td>\n",
       "      <td>0.031003</td>\n",
       "      <td>0.020648</td>\n",
       "      <td>0.017111</td>\n",
       "      <td>-0.059543</td>\n",
       "      <td>0.033537</td>\n",
       "      <td>-0.022929</td>\n",
       "      <td>-0.100436</td>\n",
       "      <td>1.000000</td>\n",
       "      <td>-0.194693</td>\n",
       "    </tr>\n",
       "    <tr>\n",
       "      <th>Std_num_rew</th>\n",
       "      <td>-0.232329</td>\n",
       "      <td>0.578057</td>\n",
       "      <td>-0.196850</td>\n",
       "      <td>-0.003142</td>\n",
       "      <td>0.007586</td>\n",
       "      <td>0.008949</td>\n",
       "      <td>0.041088</td>\n",
       "      <td>-0.042989</td>\n",
       "      <td>-0.029297</td>\n",
       "      <td>0.086152</td>\n",
       "      <td>...</td>\n",
       "      <td>-0.011908</td>\n",
       "      <td>-0.015725</td>\n",
       "      <td>0.075305</td>\n",
       "      <td>0.001783</td>\n",
       "      <td>0.043696</td>\n",
       "      <td>0.302433</td>\n",
       "      <td>0.079380</td>\n",
       "      <td>-0.160065</td>\n",
       "      <td>-0.194693</td>\n",
       "      <td>1.000000</td>\n",
       "    </tr>\n",
       "  </tbody>\n",
       "</table>\n",
       "<p>75 rows × 75 columns</p>\n",
       "</div>"
      ],
      "text/plain": [
       "                      Ranking  Number_of_Reviews     ID_TA    sample  \\\n",
       "Ranking              1.000000          -0.217376  0.049756  0.006271   \n",
       "Number_of_Reviews   -0.217376           1.000000 -0.284098  0.002790   \n",
       "ID_TA                0.049756          -0.284098  1.000000 -0.000315   \n",
       "sample               0.006271           0.002790 -0.000315  1.000000   \n",
       "Rating              -0.109897           0.011626  0.049589  0.936543   \n",
       "...                       ...                ...       ...       ...   \n",
       "count_Cuisine_Style -0.322408           0.403259 -0.220469 -0.003202   \n",
       "price_rank          -0.026334           0.109645 -0.061790 -0.003419   \n",
       "Last_rew_data        0.163821          -0.226769  0.310678 -0.001064   \n",
       "Len_rew              0.658182           0.084249 -0.058565  0.003593   \n",
       "Std_num_rew         -0.232329           0.578057 -0.196850 -0.003142   \n",
       "\n",
       "                       Rating  Amsterdam    Athens  Barcelona    Berlin  \\\n",
       "Ranking             -0.109897  -0.094100 -0.094479   0.015683 -0.026436   \n",
       "Number_of_Reviews    0.011626   0.014759 -0.012847   0.008504 -0.048738   \n",
       "ID_TA                0.049589   0.013201  0.022209   0.022178 -0.009061   \n",
       "sample               0.936543  -0.003550  0.002912   0.003577 -0.001989   \n",
       "Rating               1.000000   0.007447  0.016852  -0.000703  0.012834   \n",
       "...                       ...        ...       ...        ...       ...   \n",
       "count_Cuisine_Style  0.034506   0.064104 -0.000820   0.007978 -0.045732   \n",
       "price_rank          -0.012176  -0.003031 -0.023953  -0.014778 -0.009564   \n",
       "Last_rew_data       -0.007779  -0.063624 -0.012994   0.024041  0.033302   \n",
       "Len_rew             -0.006891  -0.104842 -0.128119   0.029723 -0.173398   \n",
       "Std_num_rew          0.007586   0.008949  0.041088  -0.042989 -0.029297   \n",
       "\n",
       "                     Bratislava  ...   Spanish   Chinese  Mediterranean  \\\n",
       "Ranking               -0.075731  ... -0.017153  0.047129      -0.147984   \n",
       "Number_of_Reviews     -0.020242  ...  0.050612 -0.014394       0.179481   \n",
       "ID_TA                  0.012232  ... -0.028809 -0.037367      -0.109303   \n",
       "sample                -0.001727  ...  0.006544 -0.003521       0.002891   \n",
       "Rating                -0.002550  ... -0.002147 -0.021039       0.018614   \n",
       "...                         ...  ...       ...       ...            ...   \n",
       "count_Cuisine_Style   -0.019017  ...  0.089345  0.013792       0.383432   \n",
       "price_rank             0.011952  ...  0.007876 -0.053128       0.018788   \n",
       "Last_rew_data          0.003380  ... -0.018395 -0.021603      -0.182432   \n",
       "Len_rew               -0.102737  ... -0.007509  0.031003       0.020648   \n",
       "Std_num_rew            0.086152  ... -0.011908 -0.015725       0.075305   \n",
       "\n",
       "                     Japanese  International  count_Cuisine_Style  price_rank  \\\n",
       "Ranking             -0.000338      -0.070473            -0.322408   -0.026334   \n",
       "Number_of_Reviews    0.003894       0.041856             0.403259    0.109645   \n",
       "ID_TA               -0.021809      -0.015737            -0.220469   -0.061790   \n",
       "sample              -0.006341       0.002881            -0.003202   -0.003419   \n",
       "Rating              -0.010047       0.011148             0.034506   -0.012176   \n",
       "...                       ...            ...                  ...         ...   \n",
       "count_Cuisine_Style  0.103414       0.183671             1.000000    0.002816   \n",
       "price_rank           0.031982       0.041353             0.002816    1.000000   \n",
       "Last_rew_data       -0.036554      -0.051778            -0.417551    0.061518   \n",
       "Len_rew              0.017111      -0.059543             0.033537   -0.022929   \n",
       "Std_num_rew          0.001783       0.043696             0.302433    0.079380   \n",
       "\n",
       "                     Last_rew_data   Len_rew  Std_num_rew  \n",
       "Ranking                   0.163821  0.658182    -0.232329  \n",
       "Number_of_Reviews        -0.226769  0.084249     0.578057  \n",
       "ID_TA                     0.310678 -0.058565    -0.196850  \n",
       "sample                   -0.001064  0.003593    -0.003142  \n",
       "Rating                   -0.007779 -0.006891     0.007586  \n",
       "...                            ...       ...          ...  \n",
       "count_Cuisine_Style      -0.417551  0.033537     0.302433  \n",
       "price_rank                0.061518 -0.022929     0.079380  \n",
       "Last_rew_data             1.000000 -0.100436    -0.160065  \n",
       "Len_rew                  -0.100436  1.000000    -0.194693  \n",
       "Std_num_rew              -0.160065 -0.194693     1.000000  \n",
       "\n",
       "[75 rows x 75 columns]"
      ]
     },
     "execution_count": 608,
     "metadata": {},
     "output_type": "execute_result"
    }
   ],
   "source": [
    "\n",
    "data.corr()"
   ]
  },
  {
   "cell_type": "code",
   "execution_count": 609,
   "metadata": {},
   "outputs": [
    {
     "name": "stdout",
     "output_type": "stream",
     "text": [
      "<class 'pandas.core.frame.DataFrame'>\n",
      "RangeIndex: 50000 entries, 0 to 49999\n",
      "Data columns (total 75 columns):\n",
      " #   Column                Non-Null Count  Dtype  \n",
      "---  ------                --------------  -----  \n",
      " 0   Ranking               50000 non-null  float64\n",
      " 1   Number_of_Reviews     50000 non-null  float64\n",
      " 2   ID_TA                 50000 non-null  float64\n",
      " 3   sample                50000 non-null  int64  \n",
      " 4   Rating                50000 non-null  float64\n",
      " 5   Amsterdam             50000 non-null  uint8  \n",
      " 6   Athens                50000 non-null  uint8  \n",
      " 7   Barcelona             50000 non-null  uint8  \n",
      " 8   Berlin                50000 non-null  uint8  \n",
      " 9   Bratislava            50000 non-null  uint8  \n",
      " 10  Brussels              50000 non-null  uint8  \n",
      " 11  Budapest              50000 non-null  uint8  \n",
      " 12  Copenhagen            50000 non-null  uint8  \n",
      " 13  Dublin                50000 non-null  uint8  \n",
      " 14  Edinburgh             50000 non-null  uint8  \n",
      " 15  Geneva                50000 non-null  uint8  \n",
      " 16  Hamburg               50000 non-null  uint8  \n",
      " 17  Helsinki              50000 non-null  uint8  \n",
      " 18  Krakow                50000 non-null  uint8  \n",
      " 19  Lisbon                50000 non-null  uint8  \n",
      " 20  Ljubljana             50000 non-null  uint8  \n",
      " 21  London                50000 non-null  uint8  \n",
      " 22  Luxembourg            50000 non-null  uint8  \n",
      " 23  Lyon                  50000 non-null  uint8  \n",
      " 24  Madrid                50000 non-null  uint8  \n",
      " 25  Milan                 50000 non-null  uint8  \n",
      " 26  Munich                50000 non-null  uint8  \n",
      " 27  Oporto                50000 non-null  uint8  \n",
      " 28  Oslo                  50000 non-null  uint8  \n",
      " 29  Paris                 50000 non-null  uint8  \n",
      " 30  Prague                50000 non-null  uint8  \n",
      " 31  Rome                  50000 non-null  uint8  \n",
      " 32  Stockholm             50000 non-null  uint8  \n",
      " 33  Vienna                50000 non-null  uint8  \n",
      " 34  Warsaw                50000 non-null  uint8  \n",
      " 35  Zurich                50000 non-null  uint8  \n",
      " 36  Len_rest_in_city      50000 non-null  float64\n",
      " 37  Std_ranking           50000 non-null  float64\n",
      " 38  population            50000 non-null  int64  \n",
      " 39  Country_ind           50000 non-null  int64  \n",
      " 40  rew_on_pop            50000 non-null  float64\n",
      " 41  NAN_Cuisine Style     50000 non-null  float64\n",
      " 42  code_Cuisine Style    50000 non-null  int32  \n",
      " 43  unique_Cuisine_Style  50000 non-null  float64\n",
      " 44  Cafe                  50000 non-null  uint8  \n",
      " 45  Vegetarian Friendly   50000 non-null  uint8  \n",
      " 46  British               50000 non-null  uint8  \n",
      " 47  other_cuisine_style   50000 non-null  uint8  \n",
      " 48  Vegan Options         50000 non-null  uint8  \n",
      " 49  Seafood               50000 non-null  uint8  \n",
      " 50  Asian                 50000 non-null  uint8  \n",
      " 51  Sushi                 50000 non-null  uint8  \n",
      " 52  Fast Food             50000 non-null  uint8  \n",
      " 53  Portuguese            50000 non-null  uint8  \n",
      " 54  Central European      50000 non-null  uint8  \n",
      " 55  American              50000 non-null  uint8  \n",
      " 56  Pizza                 50000 non-null  uint8  \n",
      " 57  Indian                50000 non-null  uint8  \n",
      " 58  Gluten Free Options   50000 non-null  uint8  \n",
      " 59  Italian               50000 non-null  uint8  \n",
      " 60  Bar                   50000 non-null  uint8  \n",
      " 61  No_info               50000 non-null  uint8  \n",
      " 62  French                50000 non-null  uint8  \n",
      " 63  Pub                   50000 non-null  uint8  \n",
      " 64  European              50000 non-null  uint8  \n",
      " 65  Spanish               50000 non-null  uint8  \n",
      " 66  Chinese               50000 non-null  uint8  \n",
      " 67  Mediterranean         50000 non-null  uint8  \n",
      " 68  Japanese              50000 non-null  uint8  \n",
      " 69  International         50000 non-null  uint8  \n",
      " 70  count_Cuisine_Style   50000 non-null  int64  \n",
      " 71  price_rank            50000 non-null  float64\n",
      " 72  Last_rew_data         50000 non-null  int64  \n",
      " 73  Len_rew               50000 non-null  float64\n",
      " 74  Std_num_rew           50000 non-null  float64\n",
      "dtypes: float64(12), int32(1), int64(5), uint8(57)\n",
      "memory usage: 9.4 MB\n"
     ]
    }
   ],
   "source": [
    "pd.options.display.max_info_columns \n",
    "data.info(verbose=True, max_cols=False, null_counts=True)"
   ]
  },
  {
   "cell_type": "code",
   "execution_count": 610,
   "metadata": {},
   "outputs": [],
   "source": [
    "# Теперь выделим тестовую часть\n",
    "train_data = data.query('sample == 1').drop(['sample'], axis=1)\n",
    "test_data = data.query('sample == 0').drop(['sample'], axis=1)\n",
    "\n",
    "y = train_data.Rating.values            # наш таргет\n",
    "X = train_data.drop(['Rating'], axis=1)"
   ]
  },
  {
   "cell_type": "markdown",
   "metadata": {},
   "source": [
    "**Перед тем как отправлять наши данные на обучение, разделим данные на еще один тест и трейн, для валидации. \n",
    "Это поможет нам проверить, как хорошо наша модель работает, до отправки submissiona на kaggle.**"
   ]
  },
  {
   "cell_type": "code",
   "execution_count": 611,
   "metadata": {},
   "outputs": [],
   "source": [
    "# Воспользуемся специальной функцие train_test_split для разбивки тестовых данных\n",
    "# выделим 20% данных на валидацию (параметр test_size)\n",
    "X_train, X_test, y_train, y_test = train_test_split(X, y, test_size=0.2, random_state=RANDOM_SEED)"
   ]
  },
  {
   "cell_type": "code",
   "execution_count": 612,
   "metadata": {},
   "outputs": [
    {
     "data": {
      "text/plain": [
       "((10000, 74), (40000, 74), (40000, 73), (32000, 73), (8000, 73))"
      ]
     },
     "execution_count": 612,
     "metadata": {},
     "output_type": "execute_result"
    }
   ],
   "source": [
    "# проверяем\n",
    "test_data.shape, train_data.shape, X.shape, X_train.shape, X_test.shape"
   ]
  },
  {
   "cell_type": "markdown",
   "metadata": {},
   "source": [
    "# Model \n",
    "Сам ML"
   ]
  },
  {
   "cell_type": "code",
   "execution_count": 613,
   "metadata": {},
   "outputs": [],
   "source": [
    "# Импортируем необходимые библиотеки:\n",
    "from sklearn.ensemble import RandomForestRegressor # инструмент для создания и обучения модели\n",
    "from sklearn import metrics # инструменты для оценки точности модели"
   ]
  },
  {
   "cell_type": "code",
   "execution_count": 614,
   "metadata": {},
   "outputs": [],
   "source": [
    "# Создаём модель (НАСТРОЙКИ НЕ ТРОГАЕМ)\n",
    "model = RandomForestRegressor(n_estimators=100, verbose=1, n_jobs=-1, random_state=RANDOM_SEED)"
   ]
  },
  {
   "cell_type": "code",
   "execution_count": 615,
   "metadata": {},
   "outputs": [
    {
     "name": "stderr",
     "output_type": "stream",
     "text": [
      "[Parallel(n_jobs=-1)]: Using backend ThreadingBackend with 8 concurrent workers.\n",
      "[Parallel(n_jobs=-1)]: Done  34 tasks      | elapsed:    4.8s\n",
      "[Parallel(n_jobs=-1)]: Done 100 out of 100 | elapsed:   12.8s finished\n",
      "[Parallel(n_jobs=8)]: Using backend ThreadingBackend with 8 concurrent workers.\n",
      "[Parallel(n_jobs=8)]: Done  34 tasks      | elapsed:    0.0s\n",
      "[Parallel(n_jobs=8)]: Done 100 out of 100 | elapsed:    0.0s finished\n"
     ]
    }
   ],
   "source": [
    "# Обучаем модель на тестовом наборе данных\n",
    "model.fit(X_train, y_train)\n",
    "\n",
    "# Используем обученную модель для предсказания рейтинга ресторанов в тестовой выборке.\n",
    "# Предсказанные значения записываем в переменную y_pred\n",
    "y_pred = model.predict(X_test)"
   ]
  },
  {
   "cell_type": "code",
   "execution_count": 616,
   "metadata": {},
   "outputs": [
    {
     "name": "stdout",
     "output_type": "stream",
     "text": [
      "MAE: 0.19840562499999997\n"
     ]
    }
   ],
   "source": [
    "# Сравниваем предсказанные значения (y_pred) с реальными (y_test), и смотрим насколько они в среднем отличаются\n",
    "# Метрика называется Mean Absolute Error (MAE) и показывает среднее отклонение предсказанных значений от фактических.\n",
    "print('MAE:', metrics.mean_absolute_error(y_test, y_pred))"
   ]
  },
  {
   "cell_type": "code",
   "execution_count": 617,
   "metadata": {},
   "outputs": [
    {
     "data": {
      "text/plain": [
       "<AxesSubplot:>"
      ]
     },
     "execution_count": 617,
     "metadata": {},
     "output_type": "execute_result"
    },
    {
     "data": {
      "image/png": "[encoded data removed]",
      "text/plain": [
       "<Figure size 720x720 with 1 Axes>"
      ]
     },
     "metadata": {
      "needs_background": "light"
     },
     "output_type": "display_data"
    }
   ],
   "source": [
    "# в RandomForestRegressor есть возможность вывести самые важные признаки для модели\n",
    "plt.rcParams['figure.figsize'] = (10,10)\n",
    "feat_importances = pd.Series(model.feature_importances_, index=X.columns)\n",
    "feat_importances.nlargest(15).plot(kind='barh')"
   ]
  },
  {
   "cell_type": "markdown",
   "metadata": {},
   "source": [
    "# Submission\n",
    "Если все устраевает - готовим Submission на кагл"
   ]
  },
  {
   "cell_type": "code",
   "execution_count": 618,
   "metadata": {},
   "outputs": [],
   "source": [
    "test_data.sample(10)\n",
    "test_data = test_data.drop(['Rating'], axis=1)"
   ]
  },
  {
   "cell_type": "code",
   "execution_count": 619,
   "metadata": {},
   "outputs": [
    {
     "data": {
      "text/plain": [
       "10000"
      ]
     },
     "execution_count": 619,
     "metadata": {},
     "output_type": "execute_result"
    }
   ],
   "source": [
    "len(test_data)"
   ]
  },
  {
   "cell_type": "code",
   "execution_count": 620,
   "metadata": {},
   "outputs": [
    {
     "data": {
      "text/plain": [
       "10000"
      ]
     },
     "execution_count": 620,
     "metadata": {},
     "output_type": "execute_result"
    }
   ],
   "source": [
    "len(sample_submission)"
   ]
  },
  {
   "cell_type": "code",
   "execution_count": 621,
   "metadata": {},
   "outputs": [
    {
     "name": "stderr",
     "output_type": "stream",
     "text": [
      "[Parallel(n_jobs=8)]: Using backend ThreadingBackend with 8 concurrent workers.\n",
      "[Parallel(n_jobs=8)]: Done  34 tasks      | elapsed:    0.0s\n",
      "[Parallel(n_jobs=8)]: Done 100 out of 100 | elapsed:    0.0s finished\n"
     ]
    },
    {
     "data": {
      "text/plain": [
       "10000"
      ]
     },
     "execution_count": 621,
     "metadata": {},
     "output_type": "execute_result"
    }
   ],
   "source": [
    "predict_submission = model.predict(test_data)\n",
    "\n",
    "len(predict_submission)"
   ]
  },
  {
   "cell_type": "code",
   "execution_count": 622,
   "metadata": {},
   "outputs": [],
   "source": [
    "def round_nearest(x, a):\n",
    "    return round(x / a) * a\n",
    "\n",
    "sample_submission['Rating'] = predict_submission.round(1)\n",
    "sample_submission['Rating'] = round_nearest(sample_submission['Rating'], 0.5)\n",
    "\n",
    "\n",
    "sample_submission.head(10)\n",
    "\n",
    "sample_submission.to_csv('submission.csv', index=False)"
   ]
  },
  {
   "cell_type": "code",
   "execution_count": null,
   "metadata": {},
   "outputs": [],
   "source": []
  }
 ],
 "metadata": {
  "kernelspec": {
   "display_name": "Python 3",
   "language": "python",
   "name": "python3"
  },
  "language_info": {
   "codemirror_mode": {
    "name": "ipython",
    "version": 3
   },
   "file_extension": ".py",
   "mimetype": "text/x-python",
   "name": "python",
   "nbconvert_exporter": "python",
   "pygments_lexer": "ipython3",
   "version": "3.8.4"
  }
 },
 "nbformat": 4,
 "nbformat_minor": 4
}
